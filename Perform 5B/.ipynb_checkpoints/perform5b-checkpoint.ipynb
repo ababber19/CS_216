{
 "cells": [
  {
   "cell_type": "markdown",
   "metadata": {
    "id": "JxSGXMQwMigc"
   },
   "source": [
    "# 5B: Perform\n",
    "\n",
    "In this assignment, you will demonstrate your learning about creating data visualizations in Python using Seaborn. When you finish please go to Kernel --> Restart and Run All, and then double check that your notebook looks correct and all visualizations are visible before saving and submitting your .ipynb file (the notebook file) on gradescope.\n",
    "\n",
    "We will work with the `university_data.csv` dataset imported into the `uni` DataFrame below. We then preview the first few rows. It contains information about 311 universities in the United States including average student test scores and gpa, tuition costs, the state in which the school is located, the ranking, etc.\n",
    "\n",
    "**Note: There are no automated tests for this Perform because it is all about your skills at creating visualizations.**"
   ]
  },
  {
   "cell_type": "code",
   "execution_count": null,
   "metadata": {
    "id": "FAexssH3Migf",
    "scrolled": true
   },
   "outputs": [],
   "source": [
    "# Run but do not modify this code\n",
    "import seaborn as sns\n",
    "import pandas as pd\n",
    "sns.set_theme()\n",
    "uni = pd.read_csv(\"university_data.csv\")\n",
    "print(uni.shape)\n",
    "uni.head()"
   ]
  },
  {
   "cell_type": "markdown",
   "metadata": {
    "id": "SYVKkA0sMigg"
   },
   "source": [
    "### Question 1\n",
    "1. Generate a scatterplot of `tuition` on the horizontal `x` axis and `sat_avg` on the vertical `y` axis.\n",
    "2. Generate the same scatterplot as in step 1, but color the points according to `institution_type`.\n",
    "3. Briefly interpret the visualizations you created in steps 1 and 2. What does it show about the correlation between `tuition` and `sat_avg`? About the difference between `public` and `private` institutions? Put your answer in \"Answer 1\" cell."
   ]
  },
  {
   "cell_type": "markdown",
   "metadata": {
    "deletable": false,
    "editable": false,
    "id": "Do_TqJlYMigg"
   },
   "source": [
    "<!-- BEGIN QUESTION -->\n",
    "\n",
    "<!--\n",
    "BEGIN QUESTION\n",
    "name: q1\n",
    "manual: true\n",
    "points: 12\n",
    "-->"
   ]
  },
  {
   "cell_type": "code",
   "execution_count": null,
   "metadata": {
    "id": "1NA6bSuDMigl"
   },
   "outputs": [],
   "source": [
    "# Put your code for question 1.1 here\n",
    "sns.relplot(data=uni, x=\"tuition\", y=\"sat_avg\")"
   ]
  },
  {
   "cell_type": "markdown",
   "metadata": {
    "deletable": false,
    "editable": false,
    "id": "Det93E8PMigm"
   },
   "source": [
    "<!-- END QUESTION -->"
   ]
  },
  {
   "cell_type": "code",
   "execution_count": null,
   "metadata": {
    "id": "4IHPQINUMigm",
    "scrolled": false
   },
   "outputs": [],
   "source": [
    "# Put your code for question 1.2 here\n",
    "sns.relplot(data=uni, x=\"tuition\", y=\"sat_avg\", hue=\"institution_type\")"
   ]
  },
  {
   "cell_type": "markdown",
   "metadata": {
    "id": "oNq5du5YMign"
   },
   "source": [
    "### Answer 1"
   ]
  },
  {
   "cell_type": "markdown",
   "metadata": {},
   "source": [
    "It shows that there is a correlation between tution and sat average (as tuition of a student increases, the sat score average also increases. It also shows that private schools tend to have higher tution, and higher sat average scores, while public schools have cheaper tution but also lower sat averages."
   ]
  },
  {
   "cell_type": "markdown",
   "metadata": {
    "id": "XAsKc5xqMign"
   },
   "source": [
    "### Question 2.1\n",
    "\n",
    "Below, we plot a histogram of `hs_gpa_avg`, the average high school gpa, for the schools. We set the `bins` manually. Identify at least two problems with our setting of `bins` that make the histogram difficult to read and or misleading. You do not need to replot the histogram to answer this question, but you are welcome to modify the `bins` parameter to see what different settings would give you in the visualization. Put your answer in \"Answer 2.1\" cell."
   ]
  },
  {
   "cell_type": "code",
   "execution_count": null,
   "metadata": {
    "id": "nQgMMV_6Mign",
    "scrolled": false
   },
   "outputs": [],
   "source": [
    "# Run this code, can modify to experiment but not required, answer below\n",
    "sns.displot(data=uni, x=\"hs_gpa_avg\", bins=[3.2 + 0.05*i for i in range(10)])\n",
    "sns.displot(data=uni, x=\"hs_gpa_avg\")"
   ]
  },
  {
   "cell_type": "markdown",
   "metadata": {
    "id": "IvGKR2L5Mign"
   },
   "source": [
    "### Answer 2.1"
   ]
  },
  {
   "cell_type": "markdown",
   "metadata": {},
   "source": [
    "1 issue with the manual setting of bins is the lack of data on the extremes. Currently, no students with a GPA below 3.2 is visible.\n",
    "\n",
    "Another issue with it is that it does not show any students with a GPA above 3.6.\n",
    "\n",
    "These issues could falsely show a school's GPA to be consistent and solid around 3.5, when that might not be the reality."
   ]
  },
  {
   "cell_type": "markdown",
   "metadata": {
    "deletable": false,
    "editable": false,
    "id": "0ZBoDc1fMigo"
   },
   "source": [
    "<!-- BEGIN QUESTION -->\n",
    "\n",
    "<!--\n",
    "BEGIN QUESTION\n",
    "name: q2_1\n",
    "manual: true\n",
    "points: 4\n",
    "-->"
   ]
  },
  {
   "cell_type": "markdown",
   "metadata": {
    "id": "HfIuWHqTMigo"
   },
   "source": [
    "<!-- END QUESTION -->\n",
    "\n",
    "\n",
    "\n",
    "### Question 2.2\n",
    "\n",
    "Below we plot a heat map that visualizes the relationship between `hs_gpa_avg` on the horizontal `x` axis and `sat_avg` on the vertical `y` axis. It looks like there is a strong relationship between `hs_gpa_avg` and `sat_avg`. Suppose someone interprets this plot by saying \"Look, every student who has a good high school gpa of 3.75 or above gets a SAT score of at least 900 or so.\" Why is this not necessarily true? Put your answer in \"Answer 2.2\" cell."
   ]
  },
  {
   "cell_type": "code",
   "execution_count": null,
   "metadata": {
    "id": "B_utIeTuMigo",
    "scrolled": false
   },
   "outputs": [],
   "source": [
    "# Run this code, can modify to experiment but not required, answer below\n",
    "sns.displot(data=uni, x=\"hs_gpa_avg\", y=\"sat_avg\", cbar=True)"
   ]
  },
  {
   "cell_type": "markdown",
   "metadata": {
    "id": "TDfFO703Migp"
   },
   "source": [
    "### Answer 2.2"
   ]
  },
  {
   "cell_type": "markdown",
   "metadata": {},
   "source": [
    "We cannot say this is true for EVERY single student, because: \n",
    "the SAT and GPA are averages, meaning there might be extreme cases of high GPA and low SAT score that we cannot see."
   ]
  },
  {
   "cell_type": "markdown",
   "metadata": {
    "deletable": false,
    "editable": false,
    "id": "zFpzf925Migp"
   },
   "source": [
    "<!-- BEGIN QUESTION -->\n",
    "\n",
    "<!--\n",
    "BEGIN QUESTION\n",
    "name: q2_2\n",
    "manual: true\n",
    "points: 4\n",
    "-->"
   ]
  },
  {
   "cell_type": "markdown",
   "metadata": {
    "id": "eiitsJ1vMigq"
   },
   "source": [
    "<!-- END QUESTION -->\n",
    "\n",
    "\n",
    "\n",
    "### Question 3\n",
    "1. Generate a bar plot showing the difference in the distribution of `hs_gpa_avg` between `public` and `private` schools. That is, there should be two bars showing the average values of `hs_gpa_avg` for `public` vs. `private` schools. There are a small number of `proprietary` schools in the dataset which are missing data in this category; filter those out so they do not appear in this visualization.\n",
    "2. Visualize the same information as in step 1, but using a box plot to visualize the distributions. As in step 1, do not include `proprietary` schools in the visualization. Briefly interpret your results, especialy explaining what information the box plot visaulizes that was not clear in the earlier bar plot. Explain in \"Answer 3\" cell."
   ]
  },
  {
   "cell_type": "markdown",
   "metadata": {
    "deletable": false,
    "editable": false,
    "id": "yJS86bCdMigq"
   },
   "source": [
    "<!-- BEGIN QUESTION -->\n",
    "\n",
    "<!--\n",
    "BEGIN QUESTION\n",
    "name: q3\n",
    "manual: true\n",
    "points: 12\n",
    "-->"
   ]
  },
  {
   "cell_type": "code",
   "execution_count": null,
   "metadata": {
    "id": "Mug9C-yLMigq",
    "scrolled": false
   },
   "outputs": [],
   "source": [
    "# Put your code for 3.1 here\n",
    "sns.catplot(data=uni[uni[\"institution_type\"] != \"proprietary\"], x=\"institution_type\", y=\"hs_gpa_avg\", kind=\"bar\")"
   ]
  },
  {
   "cell_type": "markdown",
   "metadata": {
    "deletable": false,
    "editable": false,
    "id": "PySMZeq8Migq"
   },
   "source": [
    "<!-- END QUESTION -->"
   ]
  },
  {
   "cell_type": "code",
   "execution_count": null,
   "metadata": {
    "id": "V0UXj831Migr",
    "scrolled": true
   },
   "outputs": [],
   "source": [
    "# Put your code for 3.2 here\n",
    "sns.catplot(data=uni[uni[\"institution_type\"] != \"proprietary\"], x=\"institution_type\", y=\"hs_gpa_avg\", kind=\"box\")"
   ]
  },
  {
   "cell_type": "markdown",
   "metadata": {
    "id": "9vWgy7OuMigr"
   },
   "source": [
    "### Answer 3"
   ]
  },
  {
   "cell_type": "markdown",
   "metadata": {},
   "source": [
    "The bar plot shows us the average high school GPAs for public schools and for private schools.\n",
    "The box plot shows us the outliers, min, max, q1, q3, and median of high school GPAs for public and private schools. In this case, we can see that private schools has two outliers of students with GPAS below 3.2 (outside of the IQR). It also shows that private schools have a higher median GPA than public, and have much more consistent results than public schools, which has a much larger IQR."
   ]
  },
  {
   "cell_type": "markdown",
   "metadata": {
    "id": "o9-hEAWaMigs"
   },
   "source": [
    "### Question 4\n",
    "1. Generate a line plot of `us_rank` on the horizontal `x` axis and `tuition` on the vertical `y` axis. \n",
    "2. In a single figure, plot the same line as in step 2 in one color and another line for `cost_after_aid` on the vertical `y` axis in a different color. Use the same `us_rank` ordering on the horizontal `x` axis for both. Note that you may need to wrangle your data somewhat to produce this on the same plot rather than directly using the `uni` dataframe.\n",
    "3. In step 2 we plotted `tuition` and `cost_after_aid` on the same vertical `y` axis. Briefly explain why that was reasonable, but it would not make sense to plot `tuition` and `enrollment` on the same vertical `y` axis in the same way. Explain in \"Answer 4\" cell."
   ]
  },
  {
   "cell_type": "markdown",
   "metadata": {
    "deletable": false,
    "editable": false,
    "id": "28ChtFpbMigs"
   },
   "source": [
    "<!-- BEGIN QUESTION -->\n",
    "\n",
    "<!--\n",
    "BEGIN QUESTION\n",
    "name: q4\n",
    "manual: true\n",
    "points: 12\n",
    "-->"
   ]
  },
  {
   "cell_type": "code",
   "execution_count": null,
   "metadata": {
    "id": "6a5OoBYZMigt"
   },
   "outputs": [],
   "source": [
    "# Put your code for 4.1 here\n",
    "sns.relplot(data = uni, x = \"us_rank\", y = \"tuition\", kind = \"line\")"
   ]
  },
  {
   "cell_type": "markdown",
   "metadata": {
    "deletable": false,
    "editable": false,
    "id": "3JZPvPEKMigt"
   },
   "source": [
    "<!-- END QUESTION -->"
   ]
  },
  {
   "cell_type": "code",
   "execution_count": null,
   "metadata": {
    "id": "863rdKvjMigt",
    "scrolled": false
   },
   "outputs": [],
   "source": [
    "# Put your code for 4.2 here\n",
    "temp_uni = uni[[\"us_rank\", \"tuition\", \"cost_after_aid\"]].dropna()\n",
    "temp_uni = temp_uni.melt(\"us_rank\", var_name='type_of_cost', value_name='cost')\n",
    "sns.relplot(data = temp_uni, x = \"us_rank\", y = \"cost\", kind = \"line\", hue=\"type_of_cost\")"
   ]
  },
  {
   "cell_type": "markdown",
   "metadata": {
    "id": "oeNxlxSfMigt"
   },
   "source": [
    "### Answer 4"
   ]
  },
  {
   "cell_type": "markdown",
   "metadata": {},
   "source": [
    "Tuition and cost_after_aid both use a y-axis of dollars, and makes sense to compare because it shows a similar factor (cost of university). Enrollment, however, has a different y-axis of number of people, and is not directly comparable to tuition the way cost_after_aid is."
   ]
  },
  {
   "cell_type": "markdown",
   "metadata": {
    "id": "RcToyT3UMigu"
   },
   "source": [
    "### Question 5\n",
    "Inside of the homework folder we include an image `state_enrollments_fig.png` that visualizes the total enrollment of all of the universities in the `uni` dataset grouped by state. It is a horizontal bar plot that is sorted by the values from greatest to least. It was generated by manipulating the `uni` dataset with Pandas and then plotting with Seaborn.\n",
    "\n",
    "Create a similar visualization, except instead of just visualizing total enrollment by state, visualize total enrollment per capita by state. That is, for each state, calculate the total enrollment in that state across all universities in the `uni` dataset, and then divide by that state's population. You can find the state populations as of the 2010 census in the `state_pops.csv` dataset, which uses the same two letter abbreviations for state names as the `uni` dataset.\n",
    "\n",
    "Some tips on making your plot look like `state_enrollments_fig.png`:\n",
    "- To prevent the image being \"squashed\" vertically, set the `height` parameter of the Seaborn plot call to `10`. \n",
    "- To simplify the colors to be gray rather than a rainbow, set the `color` parameter to `\"gray\"`.\n",
    "- To make the bar plot horizontal, use the numerical variable (in this case enrollment per capita) for the horizontal `x` axis in Seaborn and the categorical variable (in this case the state name) for the vertical `y` axis.\n",
    "- To sort the bars, you can either [sort the dataframe](https://pandas.pydata.org/pandas-docs/stable/reference/api/pandas.DataFrame.sort_values.html) according to the appropriate values before plotting or you can compute the ordering and then pass it to [the Seaborn order parameter](https://seaborn.pydata.org/generated/seaborn.catplot.html)."
   ]
  },
  {
   "cell_type": "markdown",
   "metadata": {
    "deletable": false,
    "editable": false,
    "id": "VmcnttnXMigu"
   },
   "source": [
    "<!-- BEGIN QUESTION -->\n",
    "\n",
    "<!--\n",
    "BEGIN QUESTION\n",
    "name: q5\n",
    "manual: true\n",
    "points: 4\n",
    "-->"
   ]
  },
  {
   "cell_type": "code",
   "execution_count": null,
   "metadata": {
    "id": "ZgnM1QDHMigu"
   },
   "outputs": [],
   "source": [
    "# Put your code here for problem 5\n",
    "# Feel free to add additional cells\n",
    "df_state = pd.read_csv(\"state_pops.csv\")\n",
    "\n",
    "uni_updated = uni.groupby(\"state\").sum().merge(df_state, on=\"state\", how=\"left\")\n",
    "uni_updated[\"enrollment_per_capita\"] = uni_updated[\"enrollment\"]/uni_updated[\"population_2010\"]\n",
    "uni_updated=uni_updated.sort_values(\"enrollment_per_capita\", ascending=False)\n",
    "\n",
    "\n",
    "sns.catplot(data = uni_updated, x = \"enrollment_per_capita\", y = \"state\", kind = \"bar\", height = 10, color = \"gray\")"
   ]
  },
  {
   "cell_type": "markdown",
   "metadata": {
    "deletable": false,
    "editable": false,
    "id": "q_TkmCdhMigu"
   },
   "source": [
    "<!-- END QUESTION -->"
   ]
  },
  {
   "cell_type": "markdown",
   "metadata": {
    "id": "UzHVv83oMigv"
   },
   "source": [
    "When you finish remember to go to Kernel --> Restart and Run All, and then double check that your notebook looks correct and all visualizations are visible before saving and submitting your .ipynb file (the notebook file) on gradescope."
   ]
  }
 ],
 "metadata": {
  "colab": {
   "name": "perform5b.ipynb",
   "provenance": []
  },
  "kernelspec": {
   "display_name": "Python 3",
   "language": "python",
   "name": "python3"
  },
  "language_info": {
   "codemirror_mode": {
    "name": "ipython",
    "version": 3
   },
   "file_extension": ".py",
   "mimetype": "text/x-python",
   "name": "python",
   "nbconvert_exporter": "python",
   "pygments_lexer": "ipython3",
   "version": "3.7.4"
  }
 },
 "nbformat": 4,
 "nbformat_minor": 1
}
