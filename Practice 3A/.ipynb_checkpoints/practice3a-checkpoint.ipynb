{
 "cells": [
  {
   "cell_type": "markdown",
   "metadata": {},
   "source": [
    "# 3A: Practice"
   ]
  },
  {
   "cell_type": "markdown",
   "metadata": {},
   "source": [
    "In this exercise, you will practice wrangling data through different formats, with missing data, and working with text."
   ]
  },
  {
   "cell_type": "markdown",
   "metadata": {},
   "source": [
    "## Part 1: Text wrangling and regular expressions "
   ]
  },
  {
   "cell_type": "markdown",
   "metadata": {},
   "source": [
    "### Question 1\n",
    "Below we import the `text.txt` file as a string called `text` and preview the first 1,000 characters. Note that the text has no capitalization at the beginning of sentences."
   ]
  },
  {
   "cell_type": "code",
   "execution_count": 27,
   "metadata": {},
   "outputs": [
    {
     "name": "stdout",
     "output_type": "stream",
     "text": [
      "it was the best of times, it was the worst of times, it was the age of wisdom, it was the age of foolishness, it was the epoch of belief, it was the epoch of incredulity, it was the season of light, it was the season of darkness, it was the spring of hope, it was the winter of despair, we had everything before us, we had nothing before us, we were all going direct to heaven, we were all going direct the other way- in short, the period was so far like the present period, that some of its noisiest authorities insisted on its being received, for good or for evil, in the superlative degree of comparison only. there were a king with a large jaw and a queen with a plain face, on the throne of england; there were a king with a large jaw and a queen with a fair face, on the throne of france. in both countries it was clearer than crystal to the lords of the state preserves of loaves and fishes, that things in general were settled for ever. it was the year of our lord one thousand seven hundred \n"
     ]
    }
   ],
   "source": [
    "# Run but do not modify this code\n",
    "with open(\"text.txt\") as f:\n",
    "    text = f.read()\n",
    "\n",
    "print(text[:1000])"
   ]
  },
  {
   "cell_type": "markdown",
   "metadata": {
    "editable": false
   },
   "source": [
    "Capitalize the first letter of each sentence (e.g., \"it was the best...\" should become \"It was the best...\"). To do so, split the sentences (you may assume sentences are ended with the a period `.` followed by a blank space), capitalize the first letter of each sentence, and then join the results.\n",
    "\n",
    "Put your result in the variable `q1`.\n",
    "\n",
    "<!--\n",
    "BEGIN QUESTION\n",
    "name: q1\n",
    "manual: false\n",
    "points:\n",
    "    - 1\n",
    "    - 1\n",
    "-->"
   ]
  },
  {
   "cell_type": "code",
   "execution_count": 28,
   "metadata": {},
   "outputs": [],
   "source": [
    "# Put your code to answer the question here\n",
    "# Please store your answer as the givin variable\n",
    "\n",
    "sentences = text.split(\". \")\n",
    "\n",
    "q1 = \". \".join([sen.capitalize() for sen in sentences])"
   ]
  },
  {
   "cell_type": "markdown",
   "metadata": {},
   "source": [
    "### Question 2\n",
    "Below we import the `corrupted_text.txt` file, a messed up version of `text.txt`, and print the first 1,000 characters."
   ]
  },
  {
   "cell_type": "code",
   "execution_count": 23,
   "metadata": {},
   "outputs": [
    {
     "name": "stdout",
     "output_type": "stream",
     "text": [
      "it was the best of times$ it was the worst of times$####                           it was the age of wisdom$ it was the age of foolishness$ it was the epoch of belief$ it was the epoch of incredulity$ it was the season of light$ it was the season of darkness$ it was the spring of hope$ it was the winter of despair$####                  we had everything before us$####          we had nothing before us$ we were all going direct to heaven$ we were all going direct the other way- in short$ the period was so far like the present period$ that some of its noisiest authorities insisted on its being received$ for good or for evil$ in the superlative degree of comparison only$\\n\\n there were a king with a large jaw and a queen with a plain face$ on the throne of england; there were a king with a large jaw and a queen with a fair face$ on the throne of france$\\n\\n in both countries it was clearer than crystal to the lords of the state preserves of loaves and fishes$ that things in general were s\n"
     ]
    }
   ],
   "source": [
    "# Run but do not modify this code\n",
    "with open(\"corrupted_text.txt\") as f:\n",
    "    ctext = f.read()\n",
    "\n",
    "print(ctext[:1000])"
   ]
  },
  {
   "cell_type": "markdown",
   "metadata": {
    "editable": false
   },
   "source": [
    "Fix the following problems to recover the original text that appeared in `text.txt`.\n",
    "\n",
    "1. Every comma `,` has been replaced by `$`. Sometimes, but not always, this is followed by `####`. When it is followed by `####`, there are different numbers of blank spaces after the `####`.\n",
    "2. Every period `.` has been replaced by `$\\n\\n`.\n",
    "\n",
    "When you are finished, if you print the first 1,000 characters, you should see the same text as in `text.txt` above (except without the capitalization you worked on in the previous problem).\n",
    "\n",
    "Put your result in the variable `q2`.\n",
    "\n",
    "Note: It may be helpful to recall that `\\` is an escape character for Python strings, so for example, while calling `print(\"\\n\")` will simply print a blank newline character, calling `print(\"\\\\n\")` will \"escape\" the usual meaning of the second backslash and print `\\n`.\n",
    "\n",
    "<!--\n",
    "BEGIN QUESTION\n",
    "name: q2\n",
    "manual: false\n",
    "points:\n",
    "    - 0.4\n",
    "    - 0.4\n",
    "    - 0.4\n",
    "    - 0.4\n",
    "    - 0.4\n",
    "-->"
   ]
  },
  {
   "cell_type": "code",
   "execution_count": 24,
   "metadata": {},
   "outputs": [],
   "source": [
    "# Put your code to answer the question here\n",
    "# Please store your answer as the givin variable\n",
    "\n",
    "q2 = ctext.replace(\"$\\\\n\\\\n\", \".\")\n",
    "\n",
    "q2 = q2.replace(\"$\", \",\")\n",
    "\n",
    "sentences = q2.split(\"####\")\n",
    "\n",
    "q2 = \" \".join([sen.lstrip() for sen in sentences])"
   ]
  },
  {
   "cell_type": "markdown",
   "metadata": {},
   "source": [
    "### Question 3\n",
    "Below, we again import the `text.txt` file as a new string variable `ftext` (for \"fresh\" text if that helps)."
   ]
  },
  {
   "cell_type": "code",
   "execution_count": 252,
   "metadata": {},
   "outputs": [],
   "source": [
    "# Run but do not modify this code\n",
    "import re # Regular expression library\n",
    "with open(\"text.txt\") as f:\n",
    "    ftext = f.read()"
   ]
  },
  {
   "cell_type": "markdown",
   "metadata": {
    "editable": false
   },
   "source": [
    "Write regular expressions and use the Python `re` module [documentation](https://docs.python.org/3/library/re.html) to answer the following questions about the file. You may assume that all characters are lowercase. You can print your answers directly from code (as long as they are clearly labeled) or you can write them in the markdown cell below.\n",
    "\n",
    "1. How many times do two vowels (a, e, i, o, and u) appear consecutively in `text`? When three vowels occur consecutively (such as in \"queen\") you only need to count once, (for example, in \"queen\" you do not need to worry about the overlap between \"ue\" and \"ee\", just count once). \n",
    "2. Find all of the hyphenated words in `text` (that is, the words with a hyphen character `-` in the middle and no spaces between the hyphen and the characters on either side). \n",
    "3. Find the first word that appears after each period character `.` in the text. Do not include the period itself or the space that follows it. They should all be lower case from the `ftext`.\n",
    "4. Find the starting index of every word `she` or `he`. Do not include words that enclose these such as `the` or `fishes` (Hint: It appears only 3 times).\n",
    "\n",
    "Put question 1's answer in the variable `q3_1`, question 2's answer in `q3_2`, and so on.\n",
    "\n",
    "<!--\n",
    "BEGIN QUESTION\n",
    "name: q3\n",
    "manual: false\n",
    "points:\n",
    "    - 2\n",
    "    - 2\n",
    "    - 2\n",
    "    - 2\n",
    "-->"
   ]
  },
  {
   "cell_type": "code",
   "execution_count": 269,
   "metadata": {},
   "outputs": [],
   "source": [
    "# Put your code to answer the question here\n",
    "# Please store the answer for each questions as following variables\n",
    "\n",
    "\n",
    "q3_1 = len(re.findall(\"[aeiou]\"\"[aeiou]\", ftext))\n",
    "q3_2 = re.findall(\"[A-Za-z]+-[A-Za-z]+\", ftext)\n",
    "\n",
    "def firstWordCleaner(x):\n",
    "    return x.split(\". \")[1]\n",
    "\n",
    "q3_3 = [firstWordCleaner(word) for word in re.findall(\"\\. [A-Za-z]+\", ftext)]\n",
    "q4_3 = ..."
   ]
  },
  {
   "cell_type": "markdown",
   "metadata": {},
   "source": [
    "## Part 2: Cleaning up system logs CSV\n",
    "In this part we work with a piece of messy tabular data in the form of a poorly formatted csv file containing data about programs running on computer systems. "
   ]
  },
  {
   "cell_type": "markdown",
   "metadata": {},
   "source": [
    "### Question 4\n",
    "Below, we import the dataset using the Pandas `read_csv` function that creates a dataframe. Run the code; it will preview the first five rows. There are several formatting issues with the default import."
   ]
  },
  {
   "cell_type": "code",
   "execution_count": 166,
   "metadata": {},
   "outputs": [
    {
     "data": {
      "text/html": [
       "<div>\n",
       "<style scoped>\n",
       "    .dataframe tbody tr th:only-of-type {\n",
       "        vertical-align: middle;\n",
       "    }\n",
       "\n",
       "    .dataframe tbody tr th {\n",
       "        vertical-align: top;\n",
       "    }\n",
       "\n",
       "    .dataframe thead th {\n",
       "        text-align: right;\n",
       "    }\n",
       "</style>\n",
       "<table border=\"1\" class=\"dataframe\">\n",
       "  <thead>\n",
       "    <tr style=\"text-align: right;\">\n",
       "      <th></th>\n",
       "      <th>0</th>\n",
       "      <th>System Time: 23 second</th>\n",
       "      <th>System Mem: 3 Gb</th>\n",
       "      <th>414 Mb</th>\n",
       "      <th></th>\n",
       "    </tr>\n",
       "  </thead>\n",
       "  <tbody>\n",
       "    <tr>\n",
       "      <th>0</th>\n",
       "      <td>1</td>\n",
       "      <td>System Time: 40 second</td>\n",
       "      <td>System Mem: 3 Gb</td>\n",
       "      <td>382 Mb</td>\n",
       "      <td></td>\n",
       "    </tr>\n",
       "    <tr>\n",
       "      <th>1</th>\n",
       "      <td>2</td>\n",
       "      <td>System Time: 43 second</td>\n",
       "      <td>System Mem: 2 Gb</td>\n",
       "      <td>271 Mb</td>\n",
       "      <td></td>\n",
       "    </tr>\n",
       "    <tr>\n",
       "      <th>2</th>\n",
       "      <td>3</td>\n",
       "      <td>System Time: 31 second</td>\n",
       "      <td>System Mem: 3 Gb</td>\n",
       "      <td>493 Mb</td>\n",
       "      <td></td>\n",
       "    </tr>\n",
       "    <tr>\n",
       "      <th>3</th>\n",
       "      <td>4</td>\n",
       "      <td>System Time: 37 second</td>\n",
       "      <td>System Mem: 3 Gb</td>\n",
       "      <td>411 Mb</td>\n",
       "      <td></td>\n",
       "    </tr>\n",
       "    <tr>\n",
       "      <th>4</th>\n",
       "      <td>5</td>\n",
       "      <td>System Time: 36 second</td>\n",
       "      <td>System Mem: 2 Gb</td>\n",
       "      <td>266 Mb</td>\n",
       "      <td></td>\n",
       "    </tr>\n",
       "  </tbody>\n",
       "</table>\n",
       "</div>"
      ],
      "text/plain": [
       "   0  System Time: 23 second   System Mem: 3 Gb  414 Mb   \n",
       "0  1  System Time: 40 second   System Mem: 3 Gb  382 Mb   \n",
       "1  2  System Time: 43 second   System Mem: 2 Gb  271 Mb   \n",
       "2  3  System Time: 31 second   System Mem: 3 Gb  493 Mb   \n",
       "3  4  System Time: 37 second   System Mem: 3 Gb  411 Mb   \n",
       "4  5  System Time: 36 second   System Mem: 2 Gb  266 Mb   "
      ]
     },
     "execution_count": 166,
     "metadata": {},
     "output_type": "execute_result"
    }
   ],
   "source": [
    "# Run but do not modify this code\n",
    "import pandas as pd\n",
    "sys_df = pd.read_csv(\"monitor.csv\")\n",
    "sys_df.head()"
   ]
  },
  {
   "cell_type": "markdown",
   "metadata": {
    "editable": false
   },
   "source": [
    "Address the following, either by changing the `read_csv` statement or by modifying the imported dataframe.\n",
    "\n",
    "1. The rows are already numbered with an integer index, but that is being duplicated so that we see a primary index for the dataframe and separately a column containing integer indices. Fix this so that there is just a single integer index as the primary index of the dataframe (bolded).\n",
    "\n",
    "2. There are commas at the end of every row causing the dataframe to add a blank extra column at the right. Get rid of this column.\n",
    "\n",
    "3. The file did not have column labels, so currently the first row is being incorrectly interpreted as the bolded column labels. Fix the code so that the column labels (from left to right) are `System Time second`, `System Memory GB`, and `System Memory MB`.\n",
    "\n",
    "\n",
    "When you are finished, `sys_df` should have the above issues correct. Assign the variable `q4` with the same value as `sys_df`.\n",
    "\n",
    "<!--\n",
    "BEGIN QUESTION\n",
    "name: q4\n",
    "manual: false\n",
    "points:\n",
    "    - 1\n",
    "    - 1\n",
    "    - 1\n",
    "    - 1\n",
    "    - 2\n",
    "-->"
   ]
  },
  {
   "cell_type": "code",
   "execution_count": 167,
   "metadata": {},
   "outputs": [],
   "source": [
    "# Put your code to answer the question here\n",
    "\n",
    "sys_df = pd.read_csv(\"monitor.csv\", usecols = [1,2,3], names = [\"System Time second\", \"System Memory GB\", \"System Memory MB\"])\n",
    "\n",
    "#sys_df.drop(columns=[sys_df.columns[0], sys_df.columns[-1]],inplace=True)\n",
    "\n",
    "\n",
    "# Do not change this cell, it needs to run for the autograder to test properly\n",
    "q4 = sys_df"
   ]
  },
  {
   "cell_type": "markdown",
   "metadata": {
    "editable": false
   },
   "source": [
    "### Question 5\n",
    "The `sys_df` dataframe from question 3 should now be a little easier to read and use, but there are some strange things we would like to fix about the formatting of the data. When you are finished, `sys_df` assign the variable `q5_1` with the same value as `sys_df`.\n",
    "\n",
    "1. The three features or columns all contain numeric data (seconds, GB, and MB) but are currently formatted as Strings with redundant information also contained in the column names. Fix the dataframe so that each value is just an integer. Note that the rows at index `400` and on have System Time recorded in minutes instead of seconds, be sure to convert these to seconds by multiplying by 60.\n",
    "\n",
    "2. Currently the System Memory is split accross two columns, one for the GB and one for the MB. For example, the total memory of the first program is 3 GB and 414 MB. Instead, represent the full system memory in the `System Memory MB` column, and get rid of the `System Memory GB` column. To do so, you need to convert the values in the GB column to MB (1 GB is 1000 MB) and add that to the MB column, then use the [`drop` method](https://pandas.pydata.org/pandas-docs/stable/reference/api/pandas.DataFrame.drop.html) to remove the GB column.\n",
    "\n",
    "3. Now that you have dealt with the above, it should be easy to provide some basic statistics about the data. Report the mean time in seconds in the variable `q5_2` and mean memory in MB of the programs in the variable `q5_3`.\n",
    "\n",
    "<!--\n",
    "BEGIN QUESTION\n",
    "name: q5\n",
    "manual: false\n",
    "points:\n",
    "    - 1\n",
    "    - 1\n",
    "    - 1\n",
    "    - 1\n",
    "    - 0.5\n",
    "    - 0.5\n",
    "    - 0.5\n",
    "    - 0.5\n",
    "-->"
   ]
  },
  {
   "cell_type": "code",
   "execution_count": 168,
   "metadata": {},
   "outputs": [],
   "source": [
    "# CLEANS THE TIME COLUMN\n",
    "def cleanSysTime(x):\n",
    "    temp = x.partition(\"Time: \")[2]\n",
    "\n",
    "    if \"second\" in temp:\n",
    "        return int(temp.split(\" \")[0])\n",
    "\n",
    "    else:\n",
    "        return int(temp.split(\" \")[0]) * 60\n",
    "\n",
    "sys_df[\"System Time second\"] = sys_df[\"System Time second\"].apply(cleanSysTime)"
   ]
  },
  {
   "cell_type": "code",
   "execution_count": 169,
   "metadata": {},
   "outputs": [],
   "source": [
    "# CLEANS THE MEM_GB COLUMN\n",
    "def cleanMemGB(x):\n",
    "    return int(x.partition(\"Mem:\")[2].partition(\"Gb\")[0])\n",
    "\n",
    "sys_df[\"System Memory GB\"] = sys_df[\"System Memory GB\"].apply(cleanMemGB)"
   ]
  },
  {
   "cell_type": "code",
   "execution_count": 170,
   "metadata": {},
   "outputs": [],
   "source": [
    "# CLEANS THE MEM_MB COLUMN\n",
    "def cleanMemMB(x):\n",
    "    return int(x.split(\" \")[0])\n",
    "\n",
    "sys_df[\"System Memory MB\"] = sys_df[\"System Memory MB\"].apply(cleanMemMB)"
   ]
  },
  {
   "cell_type": "code",
   "execution_count": 171,
   "metadata": {},
   "outputs": [],
   "source": [
    "# COMBINES THE MEMORY INTO THE MB COLUMN, AND DROPS THE GB COLUMN\n",
    "sys_df[\"System Memory MB\"] = sys_df[\"System Memory GB\"] * 1000 + sys_df[\"System Memory MB\"]\n",
    "\n",
    "sys_df = sys_df.drop(columns=[\"System Memory GB\"])"
   ]
  },
  {
   "cell_type": "code",
   "execution_count": 177,
   "metadata": {},
   "outputs": [],
   "source": [
    "# Put your code to answer the question here\n",
    "\n",
    "q5_1 = sys_df # q5_1 = sys_df, after the manipulation\n",
    "q5_2 = sys_df.mean()[\"System Time second\"] # the mean time in seconds\n",
    "q5_3 = sys_df.mean()[\"System Memory MB\"] # the mean memory in GB\n",
    "\n",
    "\n",
    "\n",
    "# Do not change this cell, it needs to run for the autograder to test properly\n",
    "q5_1 = sys_df"
   ]
  },
  {
   "cell_type": "markdown",
   "metadata": {},
   "source": [
    "## Part 3: Wrangling FDA JSON Dataset \n",
    "In this part we work with a messy JSON dataset containing information about several drugs labels."
   ]
  },
  {
   "cell_type": "markdown",
   "metadata": {},
   "source": [
    "### Question 6\n",
    "Below we import the `FDADrugLabel.json` file into the `labels` variable.\n",
    "\n",
    "The resulting Python object is somewhat messy; we encourage you to explore the data before answering the questions. For example, rather than just printing out `labels` check it's type, print only one element, and remember there are different [dictionary functions](https://docs.python.org/3/library/stdtypes.html#typesmapping) you could use. Feel free to add your own cells as you explore."
   ]
  },
  {
   "cell_type": "code",
   "execution_count": 178,
   "metadata": {},
   "outputs": [],
   "source": [
    "# Run but do not modify this code\n",
    "import json\n",
    "with open(\"FDADrugLabel.json\") as f:\n",
    "    labels = json.load(f)"
   ]
  },
  {
   "cell_type": "markdown",
   "metadata": {
    "editable": false
   },
   "source": [
    "Answer the following questions. Put question 1's answer in the variable `q6_1`, question 2's answer in `q6_2`, and so on.\n",
    "\n",
    "1. How many drugs are represented in the file?\n",
    "2. What is the largest number of key/value (or name/value) pairs for any drug in the file?\n",
    "3. The `effective_time` is recorded for each drug as a date in the format `yyyymmdd`, for example, June 1, 1992 would be recorded as `19920601`. What is the earliest recorded date?\n",
    "\n",
    "<!--\n",
    "BEGIN QUESTION\n",
    "name: q6\n",
    "manual: false\n",
    "points:\n",
    "    - 1\n",
    "    - 1\n",
    "    - 1\n",
    "    - 1\n",
    "    - 1\n",
    "    - 1\n",
    "-->"
   ]
  },
  {
   "cell_type": "code",
   "execution_count": 214,
   "metadata": {
    "scrolled": true
   },
   "outputs": [],
   "source": [
    "# Put your code to answer the question here\n",
    "\n",
    "q6_1 = len(labels) # number of drugs\n",
    "q6_2 = len(max(labels, key=lambda x:len(x.keys())).keys()) # largest number of pairs\n",
    "q6_3 = min(labels, key=lambda x:x['effective_time'])[\"effective_time\"] # earliest recorded date"
   ]
  },
  {
   "cell_type": "markdown",
   "metadata": {},
   "source": [
    "### Question 7\n",
    "\n",
    "Below we use the Pandas `read_json` function to import the `FDADrugLabel.json` file into a Pandas dataframe `label_df`."
   ]
  },
  {
   "cell_type": "code",
   "execution_count": 215,
   "metadata": {
    "scrolled": true
   },
   "outputs": [
    {
     "data": {
      "text/html": [
       "<div>\n",
       "<style scoped>\n",
       "    .dataframe tbody tr th:only-of-type {\n",
       "        vertical-align: middle;\n",
       "    }\n",
       "\n",
       "    .dataframe tbody tr th {\n",
       "        vertical-align: top;\n",
       "    }\n",
       "\n",
       "    .dataframe thead th {\n",
       "        text-align: right;\n",
       "    }\n",
       "</style>\n",
       "<table border=\"1\" class=\"dataframe\">\n",
       "  <thead>\n",
       "    <tr style=\"text-align: right;\">\n",
       "      <th></th>\n",
       "      <th>package_label_principal_display_panel</th>\n",
       "      <th>active_ingredient</th>\n",
       "      <th>warnings</th>\n",
       "      <th>inactive_ingredient</th>\n",
       "      <th>drug_interactions</th>\n",
       "      <th>effective_time</th>\n",
       "      <th>openfda</th>\n",
       "      <th>keep_out_of_reach_of_children</th>\n",
       "      <th>spl_product_data_elements</th>\n",
       "      <th>set_id</th>\n",
       "      <th>...</th>\n",
       "      <th>ask_doctor</th>\n",
       "      <th>do_not_use</th>\n",
       "      <th>recent_major_changes</th>\n",
       "      <th>boxed_warning</th>\n",
       "      <th>indications_and_usage_table</th>\n",
       "      <th>precautions</th>\n",
       "      <th>labor_and_delivery</th>\n",
       "      <th>general_precautions</th>\n",
       "      <th>dosage_and_administration_table</th>\n",
       "      <th>ask_doctor_or_pharmacist</th>\n",
       "    </tr>\n",
       "  </thead>\n",
       "  <tbody>\n",
       "    <tr>\n",
       "      <th>0</th>\n",
       "      <td>[label]</td>\n",
       "      <td>titanium dioxide</td>\n",
       "      <td>[1. Do not use in the following cases(Eczema a...</td>\n",
       "      <td>butylene glycol, water, etc</td>\n",
       "      <td></td>\n",
       "      <td>20160321</td>\n",
       "      <td>{'manufacturer_name': 'Nature and Health Beaut...</td>\n",
       "      <td>[keep out of reach of the children]</td>\n",
       "      <td>[Nature and Health Beauty (Moisturizing Cream,...</td>\n",
       "      <td>2ea9b21c-18e6-0a8a-e054-00144ff8d46c</td>\n",
       "      <td>...</td>\n",
       "      <td>NaN</td>\n",
       "      <td>NaN</td>\n",
       "      <td>NaN</td>\n",
       "      <td>NaN</td>\n",
       "      <td>NaN</td>\n",
       "      <td>NaN</td>\n",
       "      <td>NaN</td>\n",
       "      <td>NaN</td>\n",
       "      <td>NaN</td>\n",
       "      <td>NaN</td>\n",
       "    </tr>\n",
       "    <tr>\n",
       "      <th>1</th>\n",
       "      <td>[BrightSpark Oral Spray]</td>\n",
       "      <td>HPUS Active Ingredients Each dose contains equ...</td>\n",
       "      <td>[Warnings If symptoms persist or worsen, consu...</td>\n",
       "      <td>Citric acid, potassium sorbate, purified water.</td>\n",
       "      <td>NaN</td>\n",
       "      <td>20160323</td>\n",
       "      <td>{'manufacturer_name': 'Silver Star Brands', 'u...</td>\n",
       "      <td>[Keep this and all medication out of reach of ...</td>\n",
       "      <td>[BrightSpark Arg nit, Arsenicum iod, Hyoscyamu...</td>\n",
       "      <td>2eb93d7c-330f-4b93-e054-00144ff88e88</td>\n",
       "      <td>...</td>\n",
       "      <td>NaN</td>\n",
       "      <td>NaN</td>\n",
       "      <td>NaN</td>\n",
       "      <td>NaN</td>\n",
       "      <td>NaN</td>\n",
       "      <td>NaN</td>\n",
       "      <td>NaN</td>\n",
       "      <td>NaN</td>\n",
       "      <td>NaN</td>\n",
       "      <td>NaN</td>\n",
       "    </tr>\n",
       "    <tr>\n",
       "      <th>2</th>\n",
       "      <td>[PRINCIPAL DISPLAY PANEL - 106 g Packet Carton...</td>\n",
       "      <td>Active ingredient Colloidal oatmeal 43%</td>\n",
       "      <td>[Warnings For external use only. When using th...</td>\n",
       "      <td>Inactive ingredients mineral oil, calcium sili...</td>\n",
       "      <td>NaN</td>\n",
       "      <td>20160315</td>\n",
       "      <td>{'manufacturer_name': 'Johnson &amp; Johnson Consu...</td>\n",
       "      <td>[Keep out of reach of children. If swallowed, ...</td>\n",
       "      <td>[Aveeno Baby Eczema Therapy Soothing Bath Trea...</td>\n",
       "      <td>7f689b72-ccfb-4ae0-9747-1490593998ca</td>\n",
       "      <td>...</td>\n",
       "      <td>NaN</td>\n",
       "      <td>NaN</td>\n",
       "      <td>NaN</td>\n",
       "      <td>NaN</td>\n",
       "      <td>NaN</td>\n",
       "      <td>NaN</td>\n",
       "      <td>NaN</td>\n",
       "      <td>NaN</td>\n",
       "      <td>NaN</td>\n",
       "      <td>NaN</td>\n",
       "    </tr>\n",
       "    <tr>\n",
       "      <th>3</th>\n",
       "      <td>[PACKAGE LABEL-PRINCIPAL DISPLAY PANEL NDC 631...</td>\n",
       "      <td>NaN</td>\n",
       "      <td>NaN</td>\n",
       "      <td>NaN</td>\n",
       "      <td>[7 DRUG INTERACTIONS In vitro data indicate th...</td>\n",
       "      <td>20160301</td>\n",
       "      <td>{'manufacturer_name': 'Proficient Rx LP', 'uni...</td>\n",
       "      <td>NaN</td>\n",
       "      <td>[levocetirizine dihydrochloride levocetirizine...</td>\n",
       "      <td>b84ccb27-9c52-43b9-9a46-8f52a571045e</td>\n",
       "      <td>...</td>\n",
       "      <td>NaN</td>\n",
       "      <td>NaN</td>\n",
       "      <td>NaN</td>\n",
       "      <td>NaN</td>\n",
       "      <td>NaN</td>\n",
       "      <td>NaN</td>\n",
       "      <td>NaN</td>\n",
       "      <td>NaN</td>\n",
       "      <td>NaN</td>\n",
       "      <td>NaN</td>\n",
       "    </tr>\n",
       "    <tr>\n",
       "      <th>4</th>\n",
       "      <td>[PACKAGE LABEL DISPLAY: ENERGIQUE SINCE 1987 H...</td>\n",
       "      <td>ACTIVE INGREDIENTS: Angelica Archangelica 3X, ...</td>\n",
       "      <td>[WARNINGS: If pregnant or breastfeeding, ask a...</td>\n",
       "      <td>INACTIVE INGREDIENTS: Demineralized water, 20%...</td>\n",
       "      <td>NaN</td>\n",
       "      <td>20160322</td>\n",
       "      <td>{'manufacturer_name': 'Energique, Inc.', 'unii...</td>\n",
       "      <td>[KEEP OUT OF REACH OF CHILDREN: Keep out of re...</td>\n",
       "      <td>[Ovapar Angelica Archangelica, Caulophyllum Th...</td>\n",
       "      <td>13ecc450-0ae3-46d3-8cc7-915c74c3361a</td>\n",
       "      <td>...</td>\n",
       "      <td>NaN</td>\n",
       "      <td>NaN</td>\n",
       "      <td>NaN</td>\n",
       "      <td>NaN</td>\n",
       "      <td>NaN</td>\n",
       "      <td>NaN</td>\n",
       "      <td>NaN</td>\n",
       "      <td>NaN</td>\n",
       "      <td>NaN</td>\n",
       "      <td>NaN</td>\n",
       "    </tr>\n",
       "  </tbody>\n",
       "</table>\n",
       "<p>5 rows × 56 columns</p>\n",
       "</div>"
      ],
      "text/plain": [
       "               package_label_principal_display_panel  \\\n",
       "0                                            [label]   \n",
       "1                           [BrightSpark Oral Spray]   \n",
       "2  [PRINCIPAL DISPLAY PANEL - 106 g Packet Carton...   \n",
       "3  [PACKAGE LABEL-PRINCIPAL DISPLAY PANEL NDC 631...   \n",
       "4  [PACKAGE LABEL DISPLAY: ENERGIQUE SINCE 1987 H...   \n",
       "\n",
       "                                   active_ingredient  \\\n",
       "0                                   titanium dioxide   \n",
       "1  HPUS Active Ingredients Each dose contains equ...   \n",
       "2            Active ingredient Colloidal oatmeal 43%   \n",
       "3                                                NaN   \n",
       "4  ACTIVE INGREDIENTS: Angelica Archangelica 3X, ...   \n",
       "\n",
       "                                            warnings  \\\n",
       "0  [1. Do not use in the following cases(Eczema a...   \n",
       "1  [Warnings If symptoms persist or worsen, consu...   \n",
       "2  [Warnings For external use only. When using th...   \n",
       "3                                                NaN   \n",
       "4  [WARNINGS: If pregnant or breastfeeding, ask a...   \n",
       "\n",
       "                                 inactive_ingredient  \\\n",
       "0                        butylene glycol, water, etc   \n",
       "1    Citric acid, potassium sorbate, purified water.   \n",
       "2  Inactive ingredients mineral oil, calcium sili...   \n",
       "3                                                NaN   \n",
       "4  INACTIVE INGREDIENTS: Demineralized water, 20%...   \n",
       "\n",
       "                                   drug_interactions  effective_time  \\\n",
       "0                                                           20160321   \n",
       "1                                                NaN        20160323   \n",
       "2                                                NaN        20160315   \n",
       "3  [7 DRUG INTERACTIONS In vitro data indicate th...        20160301   \n",
       "4                                                NaN        20160322   \n",
       "\n",
       "                                             openfda  \\\n",
       "0  {'manufacturer_name': 'Nature and Health Beaut...   \n",
       "1  {'manufacturer_name': 'Silver Star Brands', 'u...   \n",
       "2  {'manufacturer_name': 'Johnson & Johnson Consu...   \n",
       "3  {'manufacturer_name': 'Proficient Rx LP', 'uni...   \n",
       "4  {'manufacturer_name': 'Energique, Inc.', 'unii...   \n",
       "\n",
       "                       keep_out_of_reach_of_children  \\\n",
       "0                [keep out of reach of the children]   \n",
       "1  [Keep this and all medication out of reach of ...   \n",
       "2  [Keep out of reach of children. If swallowed, ...   \n",
       "3                                                NaN   \n",
       "4  [KEEP OUT OF REACH OF CHILDREN: Keep out of re...   \n",
       "\n",
       "                           spl_product_data_elements  \\\n",
       "0  [Nature and Health Beauty (Moisturizing Cream,...   \n",
       "1  [BrightSpark Arg nit, Arsenicum iod, Hyoscyamu...   \n",
       "2  [Aveeno Baby Eczema Therapy Soothing Bath Trea...   \n",
       "3  [levocetirizine dihydrochloride levocetirizine...   \n",
       "4  [Ovapar Angelica Archangelica, Caulophyllum Th...   \n",
       "\n",
       "                                 set_id  ... ask_doctor  do_not_use  \\\n",
       "0  2ea9b21c-18e6-0a8a-e054-00144ff8d46c  ...        NaN         NaN   \n",
       "1  2eb93d7c-330f-4b93-e054-00144ff88e88  ...        NaN         NaN   \n",
       "2  7f689b72-ccfb-4ae0-9747-1490593998ca  ...        NaN         NaN   \n",
       "3  b84ccb27-9c52-43b9-9a46-8f52a571045e  ...        NaN         NaN   \n",
       "4  13ecc450-0ae3-46d3-8cc7-915c74c3361a  ...        NaN         NaN   \n",
       "\n",
       "  recent_major_changes boxed_warning indications_and_usage_table precautions  \\\n",
       "0                  NaN           NaN                         NaN         NaN   \n",
       "1                  NaN           NaN                         NaN         NaN   \n",
       "2                  NaN           NaN                         NaN         NaN   \n",
       "3                  NaN           NaN                         NaN         NaN   \n",
       "4                  NaN           NaN                         NaN         NaN   \n",
       "\n",
       "  labor_and_delivery general_precautions dosage_and_administration_table  \\\n",
       "0                NaN                 NaN                             NaN   \n",
       "1                NaN                 NaN                             NaN   \n",
       "2                NaN                 NaN                             NaN   \n",
       "3                NaN                 NaN                             NaN   \n",
       "4                NaN                 NaN                             NaN   \n",
       "\n",
       "  ask_doctor_or_pharmacist  \n",
       "0                      NaN  \n",
       "1                      NaN  \n",
       "2                      NaN  \n",
       "3                      NaN  \n",
       "4                      NaN  \n",
       "\n",
       "[5 rows x 56 columns]"
      ]
     },
     "execution_count": 215,
     "metadata": {},
     "output_type": "execute_result"
    }
   ],
   "source": [
    "# Run but do not modify this code\n",
    "import pandas as pd\n",
    "label_df = pd.read_json(\"FDADrugLabel.json\")\n",
    "label_df.head()"
   ]
  },
  {
   "cell_type": "markdown",
   "metadata": {},
   "source": [
    "Use the dataframe to answer the following questions.\n",
    "\n",
    "1. What happens if you call `label_df.dropna()` (with no optional parameters) to remove the null values? Why? \n",
    "\n",
    "2. Which of `label_df`'s columns contains data for every row? You might answer this using the `label_df.dropna()` method to keep all of the rows but remove any of the columns that have any missing data, but do not modify the `label_df` dataframe itself. \n",
    "\n",
    "3. Filter the dataframe to the rows that are missing data for `active_ingredient`, then show those rows (if `my_view` is a dataframe view you have computed by filtering the data, you can simply put `my_view` as the last line of a cell and run it to get a tabular rendering of the rows in Jupyter). You may find the Pandas `isnull` method useful, you can see it's [documentation here](https://pandas.pydata.org/pandas-docs/stable/reference/api/pandas.isnull.html).\n",
    "\n",
    "Put question 2's answer in the variable q7_2 AND question 3's answer in q7_3."
   ]
  },
  {
   "cell_type": "markdown",
   "metadata": {
    "editable": false
   },
   "source": [
    "<!-- BEGIN QUESTION -->\n",
    "\n",
    "<!--\n",
    "BEGIN QUESTION\n",
    "name: q7_manual\n",
    "manual: true\n",
    "-->"
   ]
  },
  {
   "cell_type": "markdown",
   "metadata": {},
   "source": [
    "##### Put your answer to question 7.1 here:"
   ]
  },
  {
   "cell_type": "markdown",
   "metadata": {},
   "source": [
    "q7_1)\n",
    "The method would check if there are any Na values in each row, and if there are, it would drop that row. The result of this for label_df is to drop every single row, since each row contains at least one Na."
   ]
  },
  {
   "cell_type": "markdown",
   "metadata": {
    "editable": false
   },
   "source": [
    "<!-- END QUESTION -->\n",
    "\n",
    "<!--\n",
    "BEGIN QUESTION\n",
    "name: q7\n",
    "manual: false\n",
    "points:\n",
    "    - 1\n",
    "    - 1\n",
    "    - 1\n",
    "    - 1\n",
    "-->"
   ]
  },
  {
   "cell_type": "code",
   "execution_count": null,
   "metadata": {},
   "outputs": [],
   "source": [
    "# Put your code to answer the question here\n",
    "# feel free to add more cells of code is needed\n",
    "\n",
    "nullCounter = label_df.isnull().sum()\n",
    "q7_2 = nullCounter[nullCounter==0].keys().tolist() # columns cotains data for every row. Please store the answer as a list of column names\n",
    "q7_3 = label_df[label_df[\"active_ingredient\"].isnull()]"
   ]
  }
 ],
 "metadata": {
  "kernelspec": {
   "display_name": "Python 3",
   "language": "python",
   "name": "python3"
  },
  "language_info": {
   "codemirror_mode": {
    "name": "ipython",
    "version": 3
   },
   "file_extension": ".py",
   "mimetype": "text/x-python",
   "name": "python",
   "nbconvert_exporter": "python",
   "pygments_lexer": "ipython3",
   "version": "3.7.4"
  }
 },
 "nbformat": 4,
 "nbformat_minor": 4
}
