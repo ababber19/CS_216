{
 "cells": [
  {
   "cell_type": "markdown",
   "metadata": {},
   "source": [
    "# 2B Perform\n",
    "In this exercise, you will demonstrate your learning by solving probability problems. Many of these will be math problems. You can write your answers in Markdown cells. Recall that you can use LaTeX to nicely format your math inside Markdown cells by enclosing equations in single dollar signs (e.g., $x^2+4=8$) for inline math or double dollar signs for centered equations like $$P(X > 5) = \\frac{1}{6}.$$\n",
    "\n",
    "For a reference if you are new to LaTeX, see the [overleaf documentation for mathematical expressions](https://www.overleaf.com/learn/latex/mathematical_expressions). Some particular LaTeX commands you might find useful include:\n",
    "- To write a fraction, use `\\frac{numerator}{denominator}` like $\\frac{3}{4}$\n",
    "- To write set intersection and union use `\\cap` and `\\cup` respectively like $A \\cap B$ and $A \\cup B$.\n",
    "- To write a bar over something (like a set complement) use `\\overline{}` like in $\\overline{E}$.\n",
    "- To write a subscript or superscript, use `_{}` or `^{}` as in $X_{n}$ or $X^{2}$.\n",
    "- To write a sum or product, use `\\sum` or `\\prod` as in $\\sum_{i=1}^{n} X_i$ or $\\prod_{i=1}^{n} X_i$.\n",
    "\n",
    "Show your work and/or briefly explain your answers. In general you will not receive full credit for numeric answers with no accompanying work or justification (math, code, explanation), and we can't give you partial credit if you don't show your work. Remember the example in the practice.\n",
    "\n",
    "When you finish please go to Kernel --> Restart and Run All, and then double check that your notebook looks correct before submitting your .ipynb file (the notebook file) on gradescope."
   ]
  },
  {
   "cell_type": "markdown",
   "metadata": {
    "editable": false
   },
   "source": [
    "### Question 1\n",
    "Suppose 600 individuals are on a cruise. Of the individuals:\n",
    "- 300 go snorkling\n",
    "- 450 have lunch at the restaurant\n",
    "- 200 go dancing \n",
    "- 200 go snorkling and have lunch at the restaurant\n",
    "- 100 go snorkling and go dancing\n",
    "- 100 have lunch at the restaurant and go dancing\n",
    "- 50 go snorkling, have lunch at the restaurant, and go dancing\n",
    "\n",
    "For each of the following, compute the probability that an individual chosen uniformly at random:\n",
    "1. goes snorkling and has lunch at the restaurant\n",
    "2. does not have lunch at the restaurant\n",
    "3. goes snorkling or goes dancing\n",
    "4. has lunch at the restaurant but does not go snorkling \n",
    "5. goes dancing given that they have lunch at the restaurant\n",
    "\n",
    "For the autograder, in the code cell, put question 1's answer in the variable `q1_1`, question 2's answer in `q1_2`, and so on. Show your work in the Markdown cell.\n",
    "\n",
    "<!--\n",
    "BEGIN QUESTION\n",
    "name: q1\n",
    "manual: False\n",
    "points:\n",
    "    - 0.5\n",
    "    - 0.5\n",
    "    - 1\n",
    "    - 0.5\n",
    "    - 0.5\n",
    "    - 1\n",
    "    - 0.5\n",
    "    - 0.5\n",
    "    - 1\n",
    "    - 0.5\n",
    "    - 0.5\n",
    "    - 1\n",
    "    - 0.5\n",
    "    - 0.5\n",
    "    - 1\n",
    "-->"
   ]
  },
  {
   "cell_type": "code",
   "execution_count": 1,
   "metadata": {},
   "outputs": [
    {
     "data": {
      "text/plain": [
       "Ellipsis"
      ]
     },
     "execution_count": 1,
     "metadata": {},
     "output_type": "execute_result"
    }
   ],
   "source": [
    "# Code for question 1 (or can use a hand calculator and show work)\n",
    "\n",
    "q1_1 = 0.375\n",
    "q1_2 = 0.25\n",
    "q1_3 = 0.667\n",
    "q1_4 = 0.375\n",
    "q1_5 = 0.222\n",
    "\n",
    "..."
   ]
  },
  {
   "cell_type": "markdown",
   "metadata": {},
   "source": [
    "q1_1) P(snorkling & lunch) = P(snorkling) * P(lunch) = $\\frac{300}{600} * \\frac{450}{600}$ = 0.375\n",
    "\n",
    "q1_2) P(no lunch) = 1 - P(lunch) = 1 - $\\frac{450}{600}$ = 0.25\n",
    "\n",
    "q1_3) P(snorkling or dancing) = P(snorkling) + P(dancing) - P(snorkling & dancing) = $\\frac{300}{600} + \\frac{200}{600} - \\frac{100}{600}$ = 0.667\n",
    "\n",
    "q1_4) P(lunch & no snorkling) = P(lunch) * P(no snorkling) = $\\frac{450}{600} * \\frac{300}{600}$ = 0.375\n",
    "\n",
    "q1_5) P(dancing | lunch) = P(dancing & lunch) / P(lunch) = $\\frac{100}{450}$ = 0.222"
   ]
  },
  {
   "cell_type": "markdown",
   "metadata": {
    "editable": false
   },
   "source": [
    "<!-- END QUESTION -->\n",
    "\n",
    "### Question 2\n",
    "\n",
    "1. Consider a rare genetic disorder that occurs with 5\\% probability. Individuals with the genetic disorder have a 60\\% probability to develop a particular medical condition whereas individuals without the disorder only have a 10\\% probability to develop the medical condition. What is the probably that a random individual from the entire population will develop the medical condition?\n",
    "\n",
    "2. Suppose that for a random student, there is an 80\\% probability of passing the final exam, a 90\\% chance of passing the course, and a 99\\% of passing the course given that the student passes the final exam. Given that a student passed the course, what is the probability that the student did not pass the final exam?  \n",
    "\n",
    "3. Suppose that 10\\% of the cars produced on an assembly line have some defect. The car manufacturer has a test for checking for defects and for cars with defects, it correctly finds the defect with 99\\% probability. However, for cars without defects, the test incorrectly reports a defect with 5\\% probability.  What is the probability that a car has no defect given that the test reports that it has a defect?\n",
    "\n",
    "For the autograder, in the code cell, put question 1's answer in the variable `q2_1` and so on. Show your work in the Markdown cell.\n",
    "\n",
    "<!--\n",
    "BEGIN QUESTION\n",
    "name: q2\n",
    "manual: false\n",
    "points:\n",
    "    - 0.5\n",
    "    - 0.5\n",
    "    - 1\n",
    "    - 0.5\n",
    "    - 0.5\n",
    "    - 1\n",
    "    - 0.5\n",
    "    - 0.5\n",
    "    - 1\n",
    "-->"
   ]
  },
  {
   "cell_type": "code",
   "execution_count": 2,
   "metadata": {},
   "outputs": [
    {
     "data": {
      "text/plain": [
       "Ellipsis"
      ]
     },
     "execution_count": 2,
     "metadata": {},
     "output_type": "execute_result"
    }
   ],
   "source": [
    "# Code for question 2 (or can use a hand calculator and show work)\n",
    "\n",
    "q2_1 = 0.125\n",
    "q2_2 = 0.12\n",
    "q2_3 = 0.3125\n",
    "\n",
    "..."
   ]
  },
  {
   "cell_type": "markdown",
   "metadata": {},
   "source": [
    "q2_1) P(condition) = P(disorder) * P(condition | disorder) + P(no disorder) * P(condition | no disorder) = 0.05 * 0.6 + 0.95 * 0.1 = 0.125\n",
    "\n",
    "q2_2) P(no pass exam | pass course) = P(pass course | fail exam)*P(fail exam)/P(pass course) = 1 - $\\frac{.99*.8}{.9} = 0.12$\n",
    "\n",
    "q3_3) P(false pos) = $\\frac{\\text{no defect* caught}}{\\text{defect*caught + no defect* caught}}$=$\\frac{0.9*0.05}{0.1*0.99+0.9*0.05}$= 0.3125"
   ]
  },
  {
   "cell_type": "markdown",
   "metadata": {
    "editable": false
   },
   "source": [
    "<!-- END QUESTION -->\n",
    "\n",
    "### Question 3\n",
    "1. Suppose you are playing a game of chance. You roll a single fair 6-sided die. If the result is odd, you win a number of dollars equal to the die roll. If the result is even, you lose a number of dollars equal to the die roll. What is the expected number of dollars you will win or lose playing this game once? \n",
    "\n",
    "2. You play another game of chance. It proceeds in three rounds. In each round you roll a single fair 6-sided die. In the first round, if you roll a 1 you get \\\\$1. In the second round if you roll a 2 you get \\\\$2. In the third round if you roll a 3 you get \\\\$3. If at the end you have not won any of the three rounds, you lose \\\\$3. What is the expected number of dollars you will win or lose playing this game once?\n",
    "\n",
    "For the autograder, in the code cell, put question 1's answer in the variable `q3_1` and question 2's answer in `q3_2`. Show your work in the Markdown cell.\n",
    "\n",
    "<!--\n",
    "BEGIN QUESTION\n",
    "name: q3\n",
    "manual: false\n",
    "points:\n",
    "    - 1\n",
    "    - 1\n",
    "    - 1\n",
    "    - 1\n",
    "-->"
   ]
  },
  {
   "cell_type": "code",
   "execution_count": 3,
   "metadata": {},
   "outputs": [
    {
     "data": {
      "text/plain": [
       "Ellipsis"
      ]
     },
     "execution_count": 3,
     "metadata": {},
     "output_type": "execute_result"
    }
   ],
   "source": [
    "# Code for question 2 (or can use a hand calculator and show work)\n",
    "\n",
    "q3_1 = -0.5\n",
    "q3_2 = -0.736111\n",
    "\n",
    "..."
   ]
  },
  {
   "cell_type": "markdown",
   "metadata": {},
   "source": [
    "q3_1) E[x] = $\\frac{1+3+5-2-4-6}{6}$=-0.5\n",
    "\n",
    "q3_2) e[x] = $\\frac{\\frac{1}{6}*1+\\frac{1}{6}*2+\\frac{1}{6}*3 - \\frac{5^3}{6^3}}{1}$ = -0.736111"
   ]
  },
  {
   "cell_type": "markdown",
   "metadata": {
    "editable": false
   },
   "source": [
    "<!-- END QUESTION -->\n",
    "\n",
    "### Question 4\n",
    "Suppose you toss a coin $n$ times and observe that 51\\% of the time the result is heads. Assuming $n$ is large enough to use the central limit theorem, how large would $n$ need to be before you could conclude that the probability that the coin is fair (50/50 percent chance of heads or tails) is at most 5\\%? *Hint*: To calculate this it may help to define an appropriate random variable whose expectation is the quantity of interest based on a fair coin toss and calculate its variance.\n",
    "\n",
    "For the autograder, in the code cell, put your answer in the varialbe `q4`. Show your work in the Markdown cell.\n",
    "\n",
    "<!--\n",
    "BEGIN QUESTION\n",
    "name: q4\n",
    "manual: false\n",
    "points:\n",
    "    - 0.5\n",
    "    - 0.5\n",
    "    - 1\n",
    "-->"
   ]
  },
  {
   "cell_type": "code",
   "execution_count": 4,
   "metadata": {},
   "outputs": [
    {
     "data": {
      "text/plain": [
       "Ellipsis"
      ]
     },
     "execution_count": 4,
     "metadata": {},
     "output_type": "execute_result"
    }
   ],
   "source": [
    "# Code for question 4 (or can use a hand calculator and show work)\n",
    "\n",
    "q4 = 6807\n",
    "\n",
    "..."
   ]
  },
  {
   "cell_type": "markdown",
   "metadata": {},
   "source": [
    "q4) Let X be the RV with value 1 if head and 0 for tail. \n",
    "\n",
    "The expected value for 1 toss = 0.5, and variance = 0.25/n, where n=# of tosses.\n",
    "\n",
    "For the probability to be below 5% using a normal distribution, we need $\\sigma$. Therefore, n must be ≥ 6807"
   ]
  },
  {
   "cell_type": "markdown",
   "metadata": {},
   "source": [
    "<!-- END QUESTION -->\n",
    "\n",
    "\n",
    "\n",
    "### Question 5\n",
    "In the US presidential election, there are typically two candidates: a Democratic candidate and a Republican candidate. Each state has a number of electoral college votes. The candidate who wins the most votes in a state receives all of the electoral college votes for that particular state (there are a couple of exceptions, but to keep things simple we will assume this is how it works for all states). A candidate who wins at least 270 electoral college votes wins the national election. \n",
    "\n",
    "#### *The Data*\n",
    "Below we import the `polls.csv` dataset describing the 2020 US presidential election and preview the first few rows. For each of the 50 states in the USA plus Washington D.C. (which has electoral college votes like a state), the dataset records:\n",
    "- `d_percent`: The percent of polled voters indicating they will vote for the Democratic candidate in the 2020 presidential election.\n",
    "- `r_percent`: The percent of polled voters indicating they will vote for the Republican candidate in the 2020 presidential election.\n",
    "- `ec_weight`: The number of electoral college votes controlled by the particular state.  \n",
    "\n",
    "#### *What you will do*\n",
    "**In this question, you will write a Monte Carlo simulation to understand the probabilities of the following three events.** This is based roughly on the idea of computational models for predicting election outcomes such as those you may have seen recently in the news. \n",
    "- $D$: the Democratic candidate wins at least 270 electoral college votes (and thus the presidential election)\n",
    "- $R$: the Republican candidate wins at least 270 electoral college votes (and thus the presidential election) \n",
    "- $U$: neither candidate gets 270 electoral college votes and the election is undecided.\n",
    " \n",
    "#### *How you will do it*\n",
    "To do so, model the uncertainty in the poll numbers as follows. For each simulation:\n",
    "1. For each state independently draw 0-mean normally distributed random `noise` for a given standard deviation estimate $\\sigma$. You can do so, for example, using [numpy.random.normal](https://numpy.org/doc/stable/reference/random/generated/numpy.random.normal.html). This reflects the assumption that the poll numbers are not certain and could vary in either direction by one or two standard deviations.\n",
    "2. Add `noise` (independently for each state) to `d_percent` and subtract `noise` from `r_percent`. So if you get `noise = 1.5`, `d_percent = 42`, and `r_percent = 57` you would get `43.5` for the new `d_percent` and `55.5` for the new `r_percent`. \n",
    "\n",
    "Then for a given simulation you can check which of $D$, $R$, or $U$ occur by checking, for each state, which candidate gets a larger share of the vote, and adding up their electoral votes accross all of the states.\n",
    "\n",
    "Make sure that **each simulation starts with the original values** from the `polls` dataset not the results from the previous simulation. \n",
    "\n",
    "Code the simulation and then **run 10,000 simulations for each of the following values of $\\sigma$: 1, 5, and 10. For each, report the empirical probability of the events $D$, $R$, and $U$.** You should therefore have a total of 9 values. Report your values by creating three lists `q5_1`, `q5_5`, and `q5_10`, one for each $\\sigma$. The first value of each list is the number of simulations the Republicans won, the second value is the number the Democrats won, and the final value is for Undecided.\n",
    "\n",
    "It may take a few seconds for your simulations to run, but if they are running for minutes, you are likely writing inefficient loops instead of taking advantage of efficient Pandas and Numpy operations. You will need one loop over the 10,000 simulations but should not need any others.\n",
    "\n",
    "Hint: We recommend that you write the following functions:\n",
    "1. A function that takes a `DataFrame` of votes where the noise has already been added and returns who has won based on the electoral college votes per state.\n",
    "1. A function that simulates an election by taking a `DataFrame` of vote/poll data and a standard deviation and adds noise.\n",
    "1. A function that runs all the simulations for a specific standard deviation.\n",
    "\n",
    "It'll make your code easier to write and understand."
   ]
  },
  {
   "cell_type": "code",
   "execution_count": 5,
   "metadata": {},
   "outputs": [
    {
     "data": {
      "text/html": [
       "<div>\n",
       "<style scoped>\n",
       "    .dataframe tbody tr th:only-of-type {\n",
       "        vertical-align: middle;\n",
       "    }\n",
       "\n",
       "    .dataframe tbody tr th {\n",
       "        vertical-align: top;\n",
       "    }\n",
       "\n",
       "    .dataframe thead th {\n",
       "        text-align: right;\n",
       "    }\n",
       "</style>\n",
       "<table border=\"1\" class=\"dataframe\">\n",
       "  <thead>\n",
       "    <tr style=\"text-align: right;\">\n",
       "      <th></th>\n",
       "      <th>state</th>\n",
       "      <th>d_percent</th>\n",
       "      <th>r_percent</th>\n",
       "      <th>ec_weight</th>\n",
       "    </tr>\n",
       "  </thead>\n",
       "  <tbody>\n",
       "    <tr>\n",
       "      <th>0</th>\n",
       "      <td>alabama</td>\n",
       "      <td>37</td>\n",
       "      <td>62</td>\n",
       "      <td>9</td>\n",
       "    </tr>\n",
       "    <tr>\n",
       "      <th>1</th>\n",
       "      <td>alaska</td>\n",
       "      <td>44</td>\n",
       "      <td>55</td>\n",
       "      <td>3</td>\n",
       "    </tr>\n",
       "    <tr>\n",
       "      <th>2</th>\n",
       "      <td>arizona</td>\n",
       "      <td>50</td>\n",
       "      <td>49</td>\n",
       "      <td>11</td>\n",
       "    </tr>\n",
       "    <tr>\n",
       "      <th>3</th>\n",
       "      <td>arkansas</td>\n",
       "      <td>35</td>\n",
       "      <td>64</td>\n",
       "      <td>6</td>\n",
       "    </tr>\n",
       "    <tr>\n",
       "      <th>4</th>\n",
       "      <td>california</td>\n",
       "      <td>64</td>\n",
       "      <td>35</td>\n",
       "      <td>55</td>\n",
       "    </tr>\n",
       "  </tbody>\n",
       "</table>\n",
       "</div>"
      ],
      "text/plain": [
       "        state  d_percent  r_percent  ec_weight\n",
       "0     alabama         37         62          9\n",
       "1      alaska         44         55          3\n",
       "2     arizona         50         49         11\n",
       "3    arkansas         35         64          6\n",
       "4  california         64         35         55"
      ]
     },
     "execution_count": 5,
     "metadata": {},
     "output_type": "execute_result"
    }
   ],
   "source": [
    "import pandas as pd\n",
    "polls = pd.read_csv(\"polls.csv\")\n",
    "polls.head()"
   ]
  },
  {
   "cell_type": "code",
   "execution_count": 6,
   "metadata": {},
   "outputs": [],
   "source": [
    "import numpy as np\n",
    "\n",
    "def dev(df,stdev):\n",
    "    noise=np.random.normal(loc=0,scale=stdev, size=len(df))\n",
    "    df[\"d_percent\"]=np.add(df[\"d_percent\"],noise)\n",
    "    df[\"r_percent\"]=np.subtract(df[\"r_percent\"],noise)\n",
    "    return df\n",
    "\n",
    "\n",
    "\n",
    "def c(dataframe):\n",
    "    dem=dataframe[dataframe[\"d_percent\"]>dataframe[\"r_percent\"]][\"ec_weight\"].sum()\n",
    "    rep=dataframe[dataframe[\"d_percent\"]<dataframe[\"r_percent\"]][\"ec_weight\"].sum()\n",
    "    if (dem>270):\n",
    "        return np.array([1,0,0])\n",
    "    elif (rep>270):\n",
    "        return np.array([0,1,0])\n",
    "    else:\n",
    "        return np.array([0,0,1])\n",
    "\n",
    "\n",
    "    \n",
    "def runner(df,stddev):\n",
    "    result=[0,0,0]\n",
    "    for i in range(10000):\n",
    "        result=c(dev(df,stddev))+result\n",
    "    return result"
   ]
  },
  {
   "cell_type": "code",
   "execution_count": 7,
   "metadata": {},
   "outputs": [
    {
     "name": "stdout",
     "output_type": "stream",
     "text": [
      "[4349, 5511, 140]\n"
     ]
    }
   ],
   "source": [
    "q5_1=runner(polls,1).tolist()\n",
    "print(q5_1)"
   ]
  },
  {
   "cell_type": "code",
   "execution_count": 8,
   "metadata": {},
   "outputs": [
    {
     "name": "stdout",
     "output_type": "stream",
     "text": [
      "[1912, 7968, 120]\n"
     ]
    }
   ],
   "source": [
    "q5_5=runner(polls,5).tolist()\n",
    "print(q5_5)"
   ]
  },
  {
   "cell_type": "code",
   "execution_count": 9,
   "metadata": {},
   "outputs": [
    {
     "name": "stdout",
     "output_type": "stream",
     "text": [
      "[2857, 6540, 603]\n"
     ]
    }
   ],
   "source": [
    "q5_10=runner(polls,10).tolist()\n",
    "print(q5_10)"
   ]
  }
 ],
 "metadata": {
  "kernelspec": {
   "display_name": "Python 3",
   "language": "python",
   "name": "python3"
  },
  "language_info": {
   "codemirror_mode": {
    "name": "ipython",
    "version": 3
   },
   "file_extension": ".py",
   "mimetype": "text/x-python",
   "name": "python",
   "nbconvert_exporter": "python",
   "pygments_lexer": "ipython3",
   "version": "3.7.4"
  }
 },
 "nbformat": 4,
 "nbformat_minor": 4
}
