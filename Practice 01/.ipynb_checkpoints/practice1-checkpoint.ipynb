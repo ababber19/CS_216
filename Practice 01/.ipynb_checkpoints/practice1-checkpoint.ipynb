{
 "cells": [
  {
   "cell_type": "markdown",
   "metadata": {
    "id": "NH3ciI7BAHTK"
   },
   "source": [
    "# Practice 1"
   ]
  },
  {
   "cell_type": "markdown",
   "metadata": {
    "id": "KE4iSkX-AHTP"
   },
   "source": [
    "In this exercise, you will warm up / refresh your Python skills by analyzing some real data inside of a Jupyter notebook environment. You should write whatever **Python** code you like to solve these problems. You can search on the web for documentation and techniques to help you solve the problem. See especially the official [Python tutorial](https://docs.python.org/3/tutorial/) and [documentation](https://docs.python.org/3/).\n",
    "\n",
    "For grading, we will be using an autograder in [Gradescope](http://gradescope.com/). It grades based on values in specific variables or function names. Make sure to read the problem carefully to know what names to use so the autograder can correctly find your answers.\n",
    "\n",
    "When you are ready to check your answer(s), submit your assignment at [Gradescope](http://gradescope.com/)."
   ]
  },
  {
   "cell_type": "markdown",
   "metadata": {
    "id": "FAMWJsE1AHTR"
   },
   "source": [
    "## Part 1: Text\n",
    "The `text.txt` file contains the opening sentences of Charles' Dickens novel *A Tale of Two Cities*. Run the code below. It will read the file, store it in a string variable `text`, and print the first 500 characters."
   ]
  },
  {
   "cell_type": "code",
   "execution_count": 1,
   "metadata": {
    "id": "JprjPXt8AHTS"
   },
   "outputs": [
    {
     "name": "stdout",
     "output_type": "stream",
     "text": [
      "it was the best of times, it was the worst of times, it was the age of wisdom, it was the age of foolishness, it was the epoch of belief, it was the epoch of incredulity, it was the season of light, it was the season of darkness, it was the spring of hope, it was the winter of despair, we had everything before us, we had nothing before us, we were all going direct to heaven, we were all going direct the other way- in short, the period was so far like the present period, that some of its noisiest ...\n"
     ]
    }
   ],
   "source": [
    "f = open('text.txt')\n",
    "text = f.read()\n",
    "f.close()\n",
    "\n",
    "print(text[:500], '...')"
   ]
  },
  {
   "cell_type": "markdown",
   "metadata": {
    "deletable": false,
    "editable": false,
    "id": "4Oej9d20AHTV"
   },
   "source": [
    "### Question 1\n",
    "In the variable `firstSentence` put the first sentence of the text. In the variable `lastSentence` put the last sentence of the text. You may assume sentences only end with a period (`'.'`).\n",
    "\n",
    "You may find the Python `split` method for strings to be useful: https://docs.python.org/3/library/stdtypes.html?highlight=split#str.split `sep='.'`.\n",
    "<!--\n",
    "BEGIN QUESTION\n",
    "name: q1\n",
    "manual: false\n",
    "points:\n",
    "    - 0.5\n",
    "    - 0.5\n",
    "    - 0.5\n",
    "    - 0.5\n",
    "-->"
   ]
  },
  {
   "cell_type": "code",
   "execution_count": 2,
   "metadata": {
    "id": "I_MRb-I3AHTV",
    "scrolled": true
   },
   "outputs": [],
   "source": [
    "# Code for question 1\n",
    "# save results in two variables: firstSentence & lastSentence\n",
    "\n",
    "firstSentence = text.split(\".\")[0]\n",
    "\n",
    "lastSentence = text.split(\".\")[-2]"
   ]
  },
  {
   "cell_type": "markdown",
   "metadata": {
    "deletable": false,
    "editable": false,
    "id": "DN6rraA5mAkP"
   },
   "source": [
    "### Question 2\n",
    "In the variable `v_count` place the total number of vowels (`a`, `e`, `i`, `o`, `u`) that appear in the text.\n",
    "<!--\n",
    "BEGIN QUESTION\n",
    "name: q2\n",
    "manual: false\n",
    "points:\n",
    "    - 0.5\n",
    "    - 1.5\n",
    "-->"
   ]
  },
  {
   "cell_type": "code",
   "execution_count": 3,
   "metadata": {
    "id": "3nDqZItYmAkQ"
   },
   "outputs": [],
   "source": [
    "# Code for question 2\n",
    "# save the result in a variable: v_count\n",
    "\n",
    "v_count = []\n",
    "\n",
    "for vow in \"aeiou\":\n",
    "    v_count.append(text.count(vow))"
   ]
  },
  {
   "cell_type": "markdown",
   "metadata": {
    "deletable": false,
    "editable": false,
    "id": "ttkQbPf8mAkR"
   },
   "source": [
    "### Question 3\n",
    "A trigram is a string of exactly 3 characters (or a string with length exactly 3), including blank spaces. For example, the first five trigrams in the text are:\n",
    "1. `it `\n",
    "2. `t w`\n",
    "3. ` wa`\n",
    "4. `was`\n",
    "5. `as `\n",
    "\n",
    "In the variablew `most_tri` place the most common trigram in the text.\n",
    "<!--\n",
    "BEGIN QUESTION\n",
    "name: q3\n",
    "manual: false\n",
    "points:\n",
    "    - 0.5\n",
    "    - 1.5\n",
    "-->"
   ]
  },
  {
   "cell_type": "code",
   "execution_count": 17,
   "metadata": {
    "id": "tNWNBn17mAkS"
   },
   "outputs": [],
   "source": [
    "# Code for question 3\n",
    "# save the result in a variable: most_tri\n",
    "most_tri = \"\"\n",
    "\n",
    "most_tri_count = 0\n",
    "\n",
    "for i in range(len(text)-2):\n",
    "    temp_tri = text[i:i+3]\n",
    "    \n",
    "    temp_tri_count = text.count(temp_tri)\n",
    "    \n",
    "    if temp_tri_count > most_tri_count:\n",
    "        most_tri_count = temp_tri_count\n",
    "        most_tri = temp_tri"
   ]
  },
  {
   "cell_type": "markdown",
   "metadata": {
    "id": "boPGCiLFmAkT"
   },
   "source": [
    "## Part 2: Rides\n",
    "\n",
    "The [boston.csv](boston.csv) file contains data on weekday Uber rides in the Boston, Massachusetts metropolitan areas from the [Uber Movement](https://movement.uber.com) project. The `sourceid` and `dstid` columns contain codes corresponding to start and end locations of each ride. The `hod` column contains codes corresponding to the hour of the day the ride took place. The `ride time` column contains the length of the ride, in minutes.\n",
    "\n",
    "The code below will open the file and read the data as a list of rows, with each row represented as a string. It then prints the first four rows. Note that the first (index 0) row contains the column headers."
   ]
  },
  {
   "cell_type": "code",
   "execution_count": 19,
   "metadata": {
    "id": "cIN9azKRmAkT"
   },
   "outputs": [
    {
     "name": "stdout",
     "output_type": "stream",
     "text": [
      "sourceid,dstid,hod,ride time\n",
      "\n",
      "584,33,7,11.866000000000001\n",
      "\n",
      "1013,1116,13,17.799333333333333\n",
      "\n",
      "884,1190,22,19.348833333333335\n",
      "\n"
     ]
    }
   ],
   "source": [
    "f = open('boston.csv')\n",
    "data = f.readlines()\n",
    "f.close()\n",
    "for row in data[:4]:\n",
    "    print(row)"
   ]
  },
  {
   "cell_type": "markdown",
   "metadata": {
    "deletable": false,
    "editable": false,
    "id": "oAKKW3aVmAkT"
   },
   "source": [
    "### Question 4\n",
    "In the variable `num_rides` place how many rides are listed in the the file.\n",
    "<!--\n",
    "BEGIN QUESTION\n",
    "name: q4\n",
    "manual: false\n",
    "points:\n",
    "    - 0.5\n",
    "    - 1.5\n",
    "-->"
   ]
  },
  {
   "cell_type": "code",
   "execution_count": 41,
   "metadata": {
    "id": "kKU9xeMBmAkT"
   },
   "outputs": [],
   "source": [
    "# Code for question 4\n",
    "# save the result in a variable: num_rides\n",
    "\n",
    "\n",
    "#num_rides\n",
    "num_rides = len(data)-1"
   ]
  },
  {
   "cell_type": "markdown",
   "metadata": {
    "deletable": false,
    "editable": false,
    "id": "lQW7eHvqmAkU"
   },
   "source": [
    "### Question 5\n",
    "In the variable `max_ride` place the length of the longest ride.\n",
    "<!--\n",
    "BEGIN QUESTION\n",
    "name: q5\n",
    "manual: false\n",
    "points:\n",
    "    - 0.5\n",
    "    - 1.5\n",
    "-->"
   ]
  },
  {
   "cell_type": "code",
   "execution_count": 49,
   "metadata": {
    "id": "5JxCeyV6mAkU"
   },
   "outputs": [
    {
     "data": {
      "text/plain": [
       "1471.9861666666666"
      ]
     },
     "execution_count": 49,
     "metadata": {},
     "output_type": "execute_result"
    }
   ],
   "source": [
    "# Code for question 5\n",
    "# save the result in a variable: max_ride\n",
    "\n",
    "max_ride = 0.\n",
    "\n",
    "for row in data[1:]:\n",
    "    max_ride = max((float(row.split(',')[3])), max_ride)\n",
    "\n",
    "max_ride"
   ]
  },
  {
   "cell_type": "markdown",
   "metadata": {
    "deletable": false,
    "editable": false,
    "id": "YRlDsqh3mAkU"
   },
   "source": [
    "### Question 6\n",
    "In the variable `avg_ride` place the average length of a ride.\n",
    "<!--\n",
    "BEGIN QUESTION\n",
    "name: q6\n",
    "manual: false\n",
    "points:\n",
    "    - 0.5\n",
    "    - 1.5\n",
    "-->"
   ]
  },
  {
   "cell_type": "code",
   "execution_count": 53,
   "metadata": {
    "id": "H20nwLpfmAkV"
   },
   "outputs": [],
   "source": [
    "# Code for question 6\n",
    "# save the result in a variable: avg_ride\n",
    "\n",
    "tot_ride = 0.\n",
    "\n",
    "for row in data[1:]:\n",
    "    tot_ride += float(row.split(',')[3])\n",
    "\n",
    "avg_ride = tot_ride / num_rides"
   ]
  },
  {
   "cell_type": "markdown",
   "metadata": {
    "deletable": false,
    "editable": false,
    "id": "ySTK-pq4mAkV"
   },
   "source": [
    "### Question 7\n",
    "In the variable percent_lt_ten place the percent of rides are under 10 minutes?\n",
    "<!--\n",
    "BEGIN QUESTION\n",
    "name: q7\n",
    "manual: false\n",
    "points:\n",
    "    - 0.5\n",
    "    - 1.5\n",
    "-->"
   ]
  },
  {
   "cell_type": "code",
   "execution_count": 60,
   "metadata": {
    "id": "vIBhkr0JmAkV"
   },
   "outputs": [],
   "source": [
    "# Code for question 7\n",
    "# save the result in a variable: pct_lt_ten\n",
    "\n",
    "lt_ten_count = 0\n",
    "\n",
    "for row in data[1:]:\n",
    "    lt_ten_count += 1 if float(row.split(',')[3]) < 10 else 0\n",
    "\n",
    "percent_lt_ten = lt_ten_count / num_rides"
   ]
  },
  {
   "cell_type": "markdown",
   "metadata": {
    "deletable": false,
    "editable": false,
    "id": "Uv5R0VZ6mAkV"
   },
   "source": [
    "### Question 8\n",
    "For each HOD (hour of day), count how many rides take place during that hour. Put it in a list where index 0 has the number of rides where `hod` was 0, at index 1 where `hod` was 1, etc. until index 23. This means your list will be 24 long. Put this list in a variable called `hod_counts`.\n",
    "<!--\n",
    "BEGIN QUESTION\n",
    "name: q8\n",
    "manual: false\n",
    "points:\n",
    "    - 0.5\n",
    "    - 1.5\n",
    "-->"
   ]
  },
  {
   "cell_type": "code",
   "execution_count": 66,
   "metadata": {
    "id": "9YGP3Ni8mAkW"
   },
   "outputs": [],
   "source": [
    "# Code for question 8\n",
    "# save results in a list: hod_counts\n",
    "hod_counts = [0] * 24\n",
    "\n",
    "for row in data[1:]:\n",
    "    hod_counts[int(row.split(',')[2])]+= 1"
   ]
  },
  {
   "cell_type": "markdown",
   "metadata": {
    "deletable": false,
    "editable": false,
    "id": "mnTT41qgmAkW"
   },
   "source": [
    "### Question 9\n",
    "What are the three most common **start** locations (`sourceid`) for rides in the dataset? You may find the built-in Python `sorted` function helpful; it's usage is described in https://docs.python.org/3/howto/sorting.html.\n",
    "\n",
    "Place your answer in the variable `top_three` sorted with the most common location first.\n",
    "<!--\n",
    "BEGIN QUESTION\n",
    "name: q9\n",
    "manual: false\n",
    "points:\n",
    "    - 0.5\n",
    "    - 1.5\n",
    "-->"
   ]
  },
  {
   "cell_type": "code",
   "execution_count": 101,
   "metadata": {
    "id": "pYxFudf2mAkW"
   },
   "outputs": [],
   "source": [
    "# Code for question 9\n",
    "# save results in a list: top_three\n",
    "start_locs = {}\n",
    "\n",
    "for row in data[1:]:\n",
    "    temp_start = int(row.split(',')[0])\n",
    "    if temp_start in start_locs:\n",
    "        start_locs[temp_start] += 1\n",
    "    \n",
    "    else:\n",
    "        start_locs[temp_start] = 1\n",
    "\n",
    "start_locs_sorted = (dict(sorted(start_locs.items(), key=lambda start_locs: start_locs[1], reverse = True)))\n",
    "\n",
    "top_three = list(start_locs_sorted.keys())[0:3]"
   ]
  },
  {
   "cell_type": "markdown",
   "metadata": {
    "id": "cNz7ImRomAkX"
   },
   "source": [
    "## Submitting\n",
    "\n",
    "You should make sure any code that you write to answer the questions is included in this notebook. Save your work. Double check that your entire notebook runs correctly and generates the expected output. We recommend going to the Kernel option and choosing \"Restart & Run All.\" When you finish, submit your assignment at [Gradescope](http://gradescope.com/)."
   ]
  },
  {
   "cell_type": "code",
   "execution_count": null,
   "metadata": {},
   "outputs": [],
   "source": []
  }
 ],
 "metadata": {
  "colab": {
   "collapsed_sections": [],
   "name": "practice1s-ksm-fix.ipynb",
   "provenance": []
  },
  "kernelspec": {
   "display_name": "Python 3",
   "language": "python",
   "name": "python3"
  },
  "language_info": {
   "codemirror_mode": {
    "name": "ipython",
    "version": 3
   },
   "file_extension": ".py",
   "mimetype": "text/x-python",
   "name": "python",
   "nbconvert_exporter": "python",
   "pygments_lexer": "ipython3",
   "version": "3.7.4"
  }
 },
 "nbformat": 4,
 "nbformat_minor": 1
}
