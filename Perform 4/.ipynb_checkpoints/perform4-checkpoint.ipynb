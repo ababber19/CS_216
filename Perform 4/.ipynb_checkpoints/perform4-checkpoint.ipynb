{
 "cells": [
  {
   "cell_type": "markdown",
   "metadata": {
    "id": "54Rw2llZ49e8"
   },
   "source": [
    "# 4: Perform\n",
    "In this assignment, you will demonstrate your mastery of aggregating and summarizing data with Pandas `groupby` and `pivot_table` and merging/joining datasets using Pandas `concat` and `merge`."
   ]
  },
  {
   "cell_type": "markdown",
   "metadata": {
    "id": "33QLUdvU49e_"
   },
   "source": [
    "## Part 1: COVID-19 Dataset\n",
    "In this part we work with the `covid_19_data.csv` dataset. It contains records of the cumulative numbers of confirmed cases of the disease (the `Confirmed` column), deaths from the disease (the `Deaths` column), and recovered individuals (the `Recovered` column). **Remember** that *cumulative* means total up to this date, i.e., a given observation is the previous observation plus any additional since then.\n",
    "\n",
    "Each such value corresponds to a particular `Province/State` within a given `Country/Region`. Some rows do not include information at the `Province/State` level, in which case the data correspond to the `Country/Region` as a whole. The date of the record is given in the `ObservationDate` column. Below we import the dataset and preview the first few rows. "
   ]
  },
  {
   "cell_type": "code",
   "execution_count": 1,
   "metadata": {
    "id": "iyBUgTkG49fA"
   },
   "outputs": [
    {
     "data": {
      "text/html": [
       "<div>\n",
       "<style scoped>\n",
       "    .dataframe tbody tr th:only-of-type {\n",
       "        vertical-align: middle;\n",
       "    }\n",
       "\n",
       "    .dataframe tbody tr th {\n",
       "        vertical-align: top;\n",
       "    }\n",
       "\n",
       "    .dataframe thead th {\n",
       "        text-align: right;\n",
       "    }\n",
       "</style>\n",
       "<table border=\"1\" class=\"dataframe\">\n",
       "  <thead>\n",
       "    <tr style=\"text-align: right;\">\n",
       "      <th></th>\n",
       "      <th>ObservationDate</th>\n",
       "      <th>Province/State</th>\n",
       "      <th>Country/Region</th>\n",
       "      <th>Confirmed</th>\n",
       "      <th>Deaths</th>\n",
       "      <th>Recovered</th>\n",
       "    </tr>\n",
       "  </thead>\n",
       "  <tbody>\n",
       "    <tr>\n",
       "      <th>0</th>\n",
       "      <td>2020-01-22</td>\n",
       "      <td>Anhui</td>\n",
       "      <td>Mainland China</td>\n",
       "      <td>1.0</td>\n",
       "      <td>0.0</td>\n",
       "      <td>0.0</td>\n",
       "    </tr>\n",
       "    <tr>\n",
       "      <th>1</th>\n",
       "      <td>2020-01-22</td>\n",
       "      <td>Beijing</td>\n",
       "      <td>Mainland China</td>\n",
       "      <td>14.0</td>\n",
       "      <td>0.0</td>\n",
       "      <td>0.0</td>\n",
       "    </tr>\n",
       "    <tr>\n",
       "      <th>2</th>\n",
       "      <td>2020-01-22</td>\n",
       "      <td>Chongqing</td>\n",
       "      <td>Mainland China</td>\n",
       "      <td>6.0</td>\n",
       "      <td>0.0</td>\n",
       "      <td>0.0</td>\n",
       "    </tr>\n",
       "    <tr>\n",
       "      <th>3</th>\n",
       "      <td>2020-01-22</td>\n",
       "      <td>Fujian</td>\n",
       "      <td>Mainland China</td>\n",
       "      <td>1.0</td>\n",
       "      <td>0.0</td>\n",
       "      <td>0.0</td>\n",
       "    </tr>\n",
       "    <tr>\n",
       "      <th>4</th>\n",
       "      <td>2020-01-22</td>\n",
       "      <td>Gansu</td>\n",
       "      <td>Mainland China</td>\n",
       "      <td>0.0</td>\n",
       "      <td>0.0</td>\n",
       "      <td>0.0</td>\n",
       "    </tr>\n",
       "  </tbody>\n",
       "</table>\n",
       "</div>"
      ],
      "text/plain": [
       "  ObservationDate Province/State  Country/Region  Confirmed  Deaths  Recovered\n",
       "0      2020-01-22          Anhui  Mainland China        1.0     0.0        0.0\n",
       "1      2020-01-22        Beijing  Mainland China       14.0     0.0        0.0\n",
       "2      2020-01-22      Chongqing  Mainland China        6.0     0.0        0.0\n",
       "3      2020-01-22         Fujian  Mainland China        1.0     0.0        0.0\n",
       "4      2020-01-22          Gansu  Mainland China        0.0     0.0        0.0"
      ]
     },
     "execution_count": 1,
     "metadata": {},
     "output_type": "execute_result"
    }
   ],
   "source": [
    "# Run but do not modify this code\n",
    "import pandas as pd\n",
    "covid = pd.read_csv(\"covid-19.csv\", parse_dates=[\"ObservationDate\"])\n",
    "covid.head()"
   ]
  },
  {
   "cell_type": "code",
   "execution_count": 2,
   "metadata": {
    "id": "L3jr1IlW49fB"
   },
   "outputs": [
    {
     "data": {
      "text/html": [
       "<div>\n",
       "<style scoped>\n",
       "    .dataframe tbody tr th:only-of-type {\n",
       "        vertical-align: middle;\n",
       "    }\n",
       "\n",
       "    .dataframe tbody tr th {\n",
       "        vertical-align: top;\n",
       "    }\n",
       "\n",
       "    .dataframe thead th {\n",
       "        text-align: right;\n",
       "    }\n",
       "</style>\n",
       "<table border=\"1\" class=\"dataframe\">\n",
       "  <thead>\n",
       "    <tr style=\"text-align: right;\">\n",
       "      <th></th>\n",
       "      <th>ObservationDate</th>\n",
       "      <th>Province/State</th>\n",
       "      <th>Country/Region</th>\n",
       "      <th>Confirmed</th>\n",
       "      <th>Deaths</th>\n",
       "      <th>Recovered</th>\n",
       "    </tr>\n",
       "  </thead>\n",
       "  <tbody>\n",
       "    <tr>\n",
       "      <th>0</th>\n",
       "      <td>2020-01-22</td>\n",
       "      <td>Anhui</td>\n",
       "      <td>Mainland China</td>\n",
       "      <td>1.0</td>\n",
       "      <td>0.0</td>\n",
       "      <td>0.0</td>\n",
       "    </tr>\n",
       "    <tr>\n",
       "      <th>1</th>\n",
       "      <td>2020-01-22</td>\n",
       "      <td>Beijing</td>\n",
       "      <td>Mainland China</td>\n",
       "      <td>14.0</td>\n",
       "      <td>0.0</td>\n",
       "      <td>0.0</td>\n",
       "    </tr>\n",
       "    <tr>\n",
       "      <th>2</th>\n",
       "      <td>2020-01-22</td>\n",
       "      <td>Chongqing</td>\n",
       "      <td>Mainland China</td>\n",
       "      <td>6.0</td>\n",
       "      <td>0.0</td>\n",
       "      <td>0.0</td>\n",
       "    </tr>\n",
       "    <tr>\n",
       "      <th>3</th>\n",
       "      <td>2020-01-22</td>\n",
       "      <td>Fujian</td>\n",
       "      <td>Mainland China</td>\n",
       "      <td>1.0</td>\n",
       "      <td>0.0</td>\n",
       "      <td>0.0</td>\n",
       "    </tr>\n",
       "    <tr>\n",
       "      <th>4</th>\n",
       "      <td>2020-01-22</td>\n",
       "      <td>Gansu</td>\n",
       "      <td>Mainland China</td>\n",
       "      <td>0.0</td>\n",
       "      <td>0.0</td>\n",
       "      <td>0.0</td>\n",
       "    </tr>\n",
       "    <tr>\n",
       "      <th>...</th>\n",
       "      <td>...</td>\n",
       "      <td>...</td>\n",
       "      <td>...</td>\n",
       "      <td>...</td>\n",
       "      <td>...</td>\n",
       "      <td>...</td>\n",
       "    </tr>\n",
       "    <tr>\n",
       "      <th>205946</th>\n",
       "      <td>2021-01-19</td>\n",
       "      <td>Zaporizhia Oblast</td>\n",
       "      <td>Ukraine</td>\n",
       "      <td>62492.0</td>\n",
       "      <td>738.0</td>\n",
       "      <td>39168.0</td>\n",
       "    </tr>\n",
       "    <tr>\n",
       "      <th>205947</th>\n",
       "      <td>2021-01-19</td>\n",
       "      <td>Zeeland</td>\n",
       "      <td>Netherlands</td>\n",
       "      <td>13031.0</td>\n",
       "      <td>149.0</td>\n",
       "      <td>0.0</td>\n",
       "    </tr>\n",
       "    <tr>\n",
       "      <th>205948</th>\n",
       "      <td>2021-01-19</td>\n",
       "      <td>Zhejiang</td>\n",
       "      <td>Mainland China</td>\n",
       "      <td>1316.0</td>\n",
       "      <td>1.0</td>\n",
       "      <td>1298.0</td>\n",
       "    </tr>\n",
       "    <tr>\n",
       "      <th>205949</th>\n",
       "      <td>2021-01-19</td>\n",
       "      <td>Zhytomyr Oblast</td>\n",
       "      <td>Ukraine</td>\n",
       "      <td>42758.0</td>\n",
       "      <td>707.0</td>\n",
       "      <td>37834.0</td>\n",
       "    </tr>\n",
       "    <tr>\n",
       "      <th>205950</th>\n",
       "      <td>2021-01-19</td>\n",
       "      <td>Zuid-Holland</td>\n",
       "      <td>Netherlands</td>\n",
       "      <td>224398.0</td>\n",
       "      <td>3153.0</td>\n",
       "      <td>0.0</td>\n",
       "    </tr>\n",
       "  </tbody>\n",
       "</table>\n",
       "<p>205951 rows × 6 columns</p>\n",
       "</div>"
      ],
      "text/plain": [
       "       ObservationDate     Province/State  Country/Region  Confirmed  Deaths  \\\n",
       "0           2020-01-22              Anhui  Mainland China        1.0     0.0   \n",
       "1           2020-01-22            Beijing  Mainland China       14.0     0.0   \n",
       "2           2020-01-22          Chongqing  Mainland China        6.0     0.0   \n",
       "3           2020-01-22             Fujian  Mainland China        1.0     0.0   \n",
       "4           2020-01-22              Gansu  Mainland China        0.0     0.0   \n",
       "...                ...                ...             ...        ...     ...   \n",
       "205946      2021-01-19  Zaporizhia Oblast         Ukraine    62492.0   738.0   \n",
       "205947      2021-01-19            Zeeland     Netherlands    13031.0   149.0   \n",
       "205948      2021-01-19           Zhejiang  Mainland China     1316.0     1.0   \n",
       "205949      2021-01-19    Zhytomyr Oblast         Ukraine    42758.0   707.0   \n",
       "205950      2021-01-19       Zuid-Holland     Netherlands   224398.0  3153.0   \n",
       "\n",
       "        Recovered  \n",
       "0             0.0  \n",
       "1             0.0  \n",
       "2             0.0  \n",
       "3             0.0  \n",
       "4             0.0  \n",
       "...           ...  \n",
       "205946    39168.0  \n",
       "205947        0.0  \n",
       "205948     1298.0  \n",
       "205949    37834.0  \n",
       "205950        0.0  \n",
       "\n",
       "[205951 rows x 6 columns]"
      ]
     },
     "execution_count": 2,
     "metadata": {},
     "output_type": "execute_result"
    }
   ],
   "source": [
    "import numpy as np\n",
    "covid"
   ]
  },
  {
   "cell_type": "markdown",
   "metadata": {
    "id": "OlXIs1oC49fC"
   },
   "source": [
    "### Question 1 (12 points, 4 each)\n",
    "\n",
    "1. Which `Country/Region` has reported the most total observations (rows), and how many did they report? Save the name of the Contry/Region in `q1_1_1` as `str`, and save the number they report in `q1_1_2` as `int` or `np.int64`.\n",
    "2. How many `Country/Region`s have reported at least 100 `Deaths` due to COVID-19? Save your result in `q1_2`.\n",
    "3. Which five `Province/State`s of the `Country/Region` of `Mainland China` have reported the most `Deaths` to date, and how many `Deaths` have they reported? Put your answer in `q1_3` such that it is of type `Series` where the index is the `Province/State` and the value is the number of `Deaths` as `float` or `np.float64`."
   ]
  },
  {
   "cell_type": "code",
   "execution_count": 3,
   "metadata": {
    "id": "hWjYQw3J49fC",
    "scrolled": true
   },
   "outputs": [],
   "source": [
    "# Put your code to answer the question here\n",
    "# Feel free to add additional cells\n",
    "q1_1_1 = (covid.groupby(\"Country/Region\").count()).sort_values(by=\"ObservationDate\", ascending=False).index[0]\n",
    "q1_1_2 = (covid.groupby(\"Country/Region\").count()).sort_values(by=\"ObservationDate\", ascending=False).loc[\"Russia\"][0]\n",
    "\n",
    "q1_2 = (covid.groupby(\"Country/Region\").sum())[(covid.groupby(\"Country/Region\").count())[\"Deaths\"]>100].count()[0]\n",
    "\n",
    "q1_3 = covid[covid[\"Country/Region\"]==\"Mainland China\"].groupby(\"Province/State\").sum().sort_values(by=\"Deaths\", ascending=False)[\"Deaths\"][0:5]"
   ]
  },
  {
   "cell_type": "markdown",
   "metadata": {
    "id": "wyVLiLae49fE"
   },
   "source": [
    "### Question 2 (8 points, 4 each)\n",
    "\n",
    "1. Report the first five `Province/State`s within the `Country/Region` of `US` to record a `Confirmed` case along with the dates on which they recorded their first case(s). Put your answer in `q2_1` such that it is of type `Series` where the index is the `Province/State` and the value is the dates on which they recorded their first case(s) as `pandas._libs.tslibs.timestamps.Timestamp`.\n",
    "\n",
    "2. All of the data for the `Country/Region` of `US` is recorded at the `Province/State` level. Create a Pandas Series called `q2_2` where the primary index has `ObservationDate`s and the values are the total `Confirmed` cases added up accross all of the `Province/State`s in the `Country/Region` of `US`. For example, the first several rows of the Series should look like:\n",
    "```\n",
    "2020-01-22           1.0\n",
    "2020-01-23           1.0\n",
    "2020-01-24           2.0\n",
    "2020-01-25           2.0\n",
    "2020-01-26           5.0\n",
    "```\n",
    "When you are finished, print `q2_2.head()` and then run the following code cell to visualize the spread of the virus in the United States as a line plot.  "
   ]
  },
  {
   "cell_type": "code",
   "execution_count": 4,
   "metadata": {
    "id": "NO8FrWIL49fG"
   },
   "outputs": [
    {
     "name": "stdout",
     "output_type": "stream",
     "text": [
      "2.  ObservationDate\n",
      "2020-01-22    1.0\n",
      "2020-01-23    1.0\n",
      "2020-01-24    2.0\n",
      "2020-01-25    2.0\n",
      "2020-01-26    5.0\n",
      "Name: Confirmed, dtype: float64\n"
     ]
    }
   ],
   "source": [
    "# Put your code to answer the question here\n",
    "# Feel free to add additional cells\n",
    "...\n",
    "q2_1 = covid[covid[\"Country/Region\"]==\"US\"].sort_values(by=\"ObservationDate\")[[\"Province/State\", \"ObservationDate\"]].set_index(\"Province/State\")[\"ObservationDate\"][0:5]\n",
    "\n",
    "q2_2 = covid[covid[\"Country/Region\"]==\"US\"].groupby(\"ObservationDate\").sum()[\"Confirmed\"]\n",
    "print(\"2. \", q2_2.head())"
   ]
  },
  {
   "cell_type": "code",
   "execution_count": 13,
   "metadata": {
    "id": "p-QMPt5d49fH"
   },
   "outputs": [
    {
     "data": {
      "text/plain": [
       "<matplotlib.axes._subplots.AxesSubplot at 0x7f99f02dd050>"
      ]
     },
     "execution_count": 13,
     "metadata": {},
     "output_type": "execute_result"
    },
    {
     "data": {
      "image/png": "[encoded data removed]",
      "text/plain": [
       "<Figure size 432x288 with 1 Axes>"
      ]
     },
     "metadata": {
      "needs_background": "light"
     },
     "output_type": "display_data"
    }
   ],
   "source": [
    "# Run but do not modify this code\n",
    "# You should compute `q2_2` above for Q2.2\n",
    "q2_2.plot()"
   ]
  },
  {
   "cell_type": "markdown",
   "metadata": {
    "deletable": false,
    "editable": false,
    "id": "HtmPIijj49fH"
   },
   "source": [
    "<!-- BEGIN QUESTION -->\n",
    "\n",
    "<!--\n",
    "BEGIN QUESTION\n",
    "name: q2_2_manual\n",
    "manual: true\n",
    "points: 2\n",
    "-->"
   ]
  },
  {
   "cell_type": "markdown",
   "metadata": {
    "id": "_Re25CeX49fI"
   },
   "source": [
    "<!-- END QUESTION -->\n",
    "\n",
    "\n",
    "\n",
    "## Part 2: Movie Ratings\n",
    "In this part we return to the movie review dataset that contains information about various users who have rated several different movies. To start, use `first_hundred.csv` contains all data for the first 100 `user_id`s (`1` through `100`) with all information merged into one table. Later, we will consider combining information from additional files with data on the subsequent `user_id`s. Below we import `first_hundred.csv` into the DataFrame `df_fh` and preview the first few rows."
   ]
  },
  {
   "cell_type": "code",
   "execution_count": 6,
   "metadata": {
    "id": "QG1pntYq49fI"
   },
   "outputs": [
    {
     "data": {
      "text/html": [
       "<div>\n",
       "<style scoped>\n",
       "    .dataframe tbody tr th:only-of-type {\n",
       "        vertical-align: middle;\n",
       "    }\n",
       "\n",
       "    .dataframe tbody tr th {\n",
       "        vertical-align: top;\n",
       "    }\n",
       "\n",
       "    .dataframe thead th {\n",
       "        text-align: right;\n",
       "    }\n",
       "</style>\n",
       "<table border=\"1\" class=\"dataframe\">\n",
       "  <thead>\n",
       "    <tr style=\"text-align: right;\">\n",
       "      <th></th>\n",
       "      <th>user_id</th>\n",
       "      <th>age</th>\n",
       "      <th>sex</th>\n",
       "      <th>occupation</th>\n",
       "      <th>movie_id</th>\n",
       "      <th>rating</th>\n",
       "      <th>movie_title</th>\n",
       "    </tr>\n",
       "  </thead>\n",
       "  <tbody>\n",
       "    <tr>\n",
       "      <th>0</th>\n",
       "      <td>1</td>\n",
       "      <td>24</td>\n",
       "      <td>M</td>\n",
       "      <td>technician</td>\n",
       "      <td>61</td>\n",
       "      <td>4</td>\n",
       "      <td>Three Colors: White (1994)</td>\n",
       "    </tr>\n",
       "    <tr>\n",
       "      <th>1</th>\n",
       "      <td>13</td>\n",
       "      <td>47</td>\n",
       "      <td>M</td>\n",
       "      <td>educator</td>\n",
       "      <td>61</td>\n",
       "      <td>4</td>\n",
       "      <td>Three Colors: White (1994)</td>\n",
       "    </tr>\n",
       "    <tr>\n",
       "      <th>2</th>\n",
       "      <td>18</td>\n",
       "      <td>35</td>\n",
       "      <td>F</td>\n",
       "      <td>other</td>\n",
       "      <td>61</td>\n",
       "      <td>4</td>\n",
       "      <td>Three Colors: White (1994)</td>\n",
       "    </tr>\n",
       "    <tr>\n",
       "      <th>3</th>\n",
       "      <td>58</td>\n",
       "      <td>27</td>\n",
       "      <td>M</td>\n",
       "      <td>programmer</td>\n",
       "      <td>61</td>\n",
       "      <td>5</td>\n",
       "      <td>Three Colors: White (1994)</td>\n",
       "    </tr>\n",
       "    <tr>\n",
       "      <th>4</th>\n",
       "      <td>59</td>\n",
       "      <td>49</td>\n",
       "      <td>M</td>\n",
       "      <td>educator</td>\n",
       "      <td>61</td>\n",
       "      <td>4</td>\n",
       "      <td>Three Colors: White (1994)</td>\n",
       "    </tr>\n",
       "    <tr>\n",
       "      <th>...</th>\n",
       "      <td>...</td>\n",
       "      <td>...</td>\n",
       "      <td>...</td>\n",
       "      <td>...</td>\n",
       "      <td>...</td>\n",
       "      <td>...</td>\n",
       "      <td>...</td>\n",
       "    </tr>\n",
       "    <tr>\n",
       "      <th>11014</th>\n",
       "      <td>100</td>\n",
       "      <td>36</td>\n",
       "      <td>M</td>\n",
       "      <td>executive</td>\n",
       "      <td>1238</td>\n",
       "      <td>2</td>\n",
       "      <td>Full Speed (1996)</td>\n",
       "    </tr>\n",
       "    <tr>\n",
       "      <th>11015</th>\n",
       "      <td>100</td>\n",
       "      <td>36</td>\n",
       "      <td>M</td>\n",
       "      <td>executive</td>\n",
       "      <td>1235</td>\n",
       "      <td>4</td>\n",
       "      <td>Big Bang Theory, The (1994)</td>\n",
       "    </tr>\n",
       "    <tr>\n",
       "      <th>11016</th>\n",
       "      <td>100</td>\n",
       "      <td>36</td>\n",
       "      <td>M</td>\n",
       "      <td>executive</td>\n",
       "      <td>1237</td>\n",
       "      <td>3</td>\n",
       "      <td>Twisted (1996)</td>\n",
       "    </tr>\n",
       "    <tr>\n",
       "      <th>11017</th>\n",
       "      <td>100</td>\n",
       "      <td>36</td>\n",
       "      <td>M</td>\n",
       "      <td>executive</td>\n",
       "      <td>1234</td>\n",
       "      <td>1</td>\n",
       "      <td>Chairman of the Board (1998)</td>\n",
       "    </tr>\n",
       "    <tr>\n",
       "      <th>11018</th>\n",
       "      <td>100</td>\n",
       "      <td>36</td>\n",
       "      <td>M</td>\n",
       "      <td>executive</td>\n",
       "      <td>1233</td>\n",
       "      <td>3</td>\n",
       "      <td>Nénette et Boni (1996)</td>\n",
       "    </tr>\n",
       "  </tbody>\n",
       "</table>\n",
       "<p>11019 rows × 7 columns</p>\n",
       "</div>"
      ],
      "text/plain": [
       "       user_id  age sex  occupation  movie_id  rating  \\\n",
       "0            1   24   M  technician        61       4   \n",
       "1           13   47   M    educator        61       4   \n",
       "2           18   35   F       other        61       4   \n",
       "3           58   27   M  programmer        61       5   \n",
       "4           59   49   M    educator        61       4   \n",
       "...        ...  ...  ..         ...       ...     ...   \n",
       "11014      100   36   M   executive      1238       2   \n",
       "11015      100   36   M   executive      1235       4   \n",
       "11016      100   36   M   executive      1237       3   \n",
       "11017      100   36   M   executive      1234       1   \n",
       "11018      100   36   M   executive      1233       3   \n",
       "\n",
       "                        movie_title  \n",
       "0        Three Colors: White (1994)  \n",
       "1        Three Colors: White (1994)  \n",
       "2        Three Colors: White (1994)  \n",
       "3        Three Colors: White (1994)  \n",
       "4        Three Colors: White (1994)  \n",
       "...                             ...  \n",
       "11014             Full Speed (1996)  \n",
       "11015   Big Bang Theory, The (1994)  \n",
       "11016                Twisted (1996)  \n",
       "11017  Chairman of the Board (1998)  \n",
       "11018        Nénette et Boni (1996)  \n",
       "\n",
       "[11019 rows x 7 columns]"
      ]
     },
     "execution_count": 6,
     "metadata": {},
     "output_type": "execute_result"
    }
   ],
   "source": [
    "# Run but do not modify this code\n",
    "import pandas as pd\n",
    "df_fh = pd.read_csv(\"first_hundred.csv\")\n",
    "df_fh"
   ]
  },
  {
   "cell_type": "markdown",
   "metadata": {
    "id": "qpeLL3EY49fI"
   },
   "source": [
    "### Question 3 (8 points, 4 each)\n",
    "Use Pandas `pivot_table`s to answer the following about the data in `first_hundred.csv`.\n",
    "\n",
    "1. For each of the five possible `rating` values (1 through 5) report how many ratings of that value were recorded for `sex=='M'` and for `sex=='F'`. That is, how many total ratings of `1` were given by women, how many total ratings of `2` were given by women, etc., and the same for men. Save your result in pivot table `q3_1`, the columns are `sex` and the rows are `rating`.\n",
    "\n",
    "2. Compute the `decade` of a user to be their `age // 10` (where `//` stands for integer division in Python so that someone with `age` between 0 and 9 would have `decade` 0, between 10 and 19 would have `decade` 1, and so on). Create a pivot table that shows the total number of `rating`s in the dataset for each combination of `decade` and `sex`. That is, your pivot table should show how many total `rating`s were made by users who are `decade==0` and `sex=='F'`, `decade==1` and `sex=='F'`, etc., and the same for `sex=='M'` for each of the five possible `rating` values (1 through 5). Use the `fill_value=0` optional parameter to the Pandas `pivot_table` method so that combinations for which there are no ratings will be printed as 0.  Display your resulting pivot table. Put your result in pivot table `q3_2`, the columns are `sex` and the rows are `decade`."
   ]
  },
  {
   "cell_type": "code",
   "execution_count": 7,
   "metadata": {
    "id": "stjCkvLY49fI"
   },
   "outputs": [],
   "source": [
    "# Put your code to answer the question here\n",
    "# Feel free to add additional cells\n",
    "q3_1 = df_fh.pivot_table(\"movie_id\", index=\"rating\", columns=\"sex\", aggfunc='count')\n",
    "\n",
    "df_fh[\"decade\"]= df_fh[\"age\"]//10\n",
    "q3_2 = (df_fh.pivot_table(\"rating\", index=\"decade\", columns=\"sex\", aggfunc='count', fill_value=0))"
   ]
  },
  {
   "cell_type": "markdown",
   "metadata": {
    "id": "BCx1pWBs49fJ"
   },
   "source": [
    "### Question 4 (12 points, 4 each)\n",
    "`first_hundred.csv` only contains ratings from the first 100 `user_id`s containing about 11% of the total ratings. The remaining ratings are split across two additional files: `other_ratings_a.csv` and `other_ratings_b.csv`. In addition, information about additional users not in the first hundred is contained in the `other_users.csv` file, and information about all movies is contained in the `movies.csv` file. You will need to import and appropriately combine data from all of these datasets in order to answer the following questions. We encourage you to start by exploring the individual datasets.\n",
    "\n",
    "1. What percentage of the ratings were made by women (i.e., `sex=='F'`)? Put your result in `q4_1` as a `float` or `np.float64`.\n",
    "2. What are the `movie_title`s of the five movies that have received the most ratings? Put your answer in `q4_2` such that it is of type `Series` where the index is the `movie_title` and the value is the `rating` as `int` or `np.int64`.\n",
    "3. Several movies have not received very many `rating`s; average ratings of such movies are not very informative. Instead, what are the `movie_title`s and average `rating`s of the movies that have received *at least 10* `rating`s? Show the five movies with the highest average `rating`. Put your answer in `q4_3` such that it is of type `Series` where the index is the `movie_title` and the value is the average rating as `float` or `np.float64`."
   ]
  },
  {
   "cell_type": "code",
   "execution_count": 8,
   "metadata": {},
   "outputs": [],
   "source": [
    "df_ou = pd.read_csv(\"other_users.csv\")\n",
    "df_ora = pd.read_csv(\"other_ratings_a.csv\")\n",
    "df_orb = pd.read_csv(\"other_ratings_b.csv\")"
   ]
  },
  {
   "cell_type": "code",
   "execution_count": 9,
   "metadata": {
    "id": "cN-VlwJu49fJ"
   },
   "outputs": [],
   "source": [
    "# Put your code to answer the question here\n",
    "# Feel free to add additional cells\n",
    "\n",
    "#Q4.1 CODE\n",
    "df_first_100_users = df_fh.groupby(\"user_id\").first()\n",
    "df_first_100_users.reset_index(level=0, inplace=True)\n",
    "df_all_users = pd.concat([df_first_100_users[[\"user_id\", \"age\", \"sex\", \"occupation\"]], df_ou])\n",
    "\n",
    "df_all_ratings = pd.concat([df_fh[[\"user_id\", \"movie_id\", \"rating\"]], df_ora])\n",
    "df_all_ratings = pd.concat([df_all_ratings, df_orb])\n",
    "\n",
    "df_all_info = pd.merge(df_all_ratings, df_all_users, how=\"left\", on=\"user_id\")\n",
    "\n",
    "\n",
    "q4_1 = df_all_info[\"sex\"].value_counts(normalize=True)[\"F\"]\n",
    "\n",
    "\n",
    "\n",
    "#Q4.2 CODE\n",
    "top_five = df_all_info.groupby(\"movie_id\").count().sort_values(\"user_id\", ascending=False)[:5]\n",
    "q4_2 = pd.merge(top_five, df_fh, on=\"movie_id\").groupby(\"movie_id\").first().set_index(\"movie_title\")[\"user_id_x\"]\n",
    "\n",
    "\n",
    "\n",
    "#Q4.3 CODE\n",
    "top_five_ratings = df_all_ratings.groupby(\"movie_id\").filter(lambda x: len(x)>= 10).groupby(\"movie_id\").mean().sort_values(\"rating\", ascending=False)[:5]\n",
    "q4_3 = pd.merge(top_five_ratings, df_fh, on=\"movie_id\").groupby(\"movie_id\").first().set_index(\"movie_title\")[\"rating_x\"]"
   ]
  }
 ],
 "metadata": {
  "colab": {
   "name": "perform4.ipynb",
   "provenance": []
  },
  "kernelspec": {
   "display_name": "Python 3",
   "language": "python",
   "name": "python3"
  },
  "language_info": {
   "codemirror_mode": {
    "name": "ipython",
    "version": 3
   },
   "file_extension": ".py",
   "mimetype": "text/x-python",
   "name": "python",
   "nbconvert_exporter": "python",
   "pygments_lexer": "ipython3",
   "version": "3.7.4"
  }
 },
 "nbformat": 4,
 "nbformat_minor": 1
}
